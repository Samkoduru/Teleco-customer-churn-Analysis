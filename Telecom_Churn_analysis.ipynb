{
 "cells": [
  {
   "cell_type": "markdown",
   "metadata": {
    "_cell_guid": "b1076dfc-b9ad-4769-8c92-a6c4dae69d19",
    "_uuid": "8f2839f25d086af736a60e9eeb907d3b93b6e0e5"
   },
   "source": [
    "# Customer Churn Prediction Analysis"
   ]
  },
  {
   "cell_type": "code",
   "execution_count": null,
   "metadata": {},
   "outputs": [],
   "source": []
  },
  {
   "cell_type": "markdown",
   "metadata": {
    "_uuid": "04a09bf470019e52a6844e9375cf086d523a8ff9"
   },
   "source": [
    "**Context:** The problem is to look at a churn prediction model for a Telecom customer. We started with understanding of the data presented, followed by a detailed exploratory analysis to look at the different data attributes, their domains, relationships etc. Feature engineering helps in identifying the key variables/set of variables in the context of churners, and help in identifying the ones that impact churning. A baseline model is arrived at based on a set of customer data which is trained further using additional data inputs. Finally the model is tested against the remaining set of data set aside for testing and validation. The resultant validated model is good to go for implementation on actual on-going data sets. "
   ]
  },
  {
   "cell_type": "markdown",
   "metadata": {
    "_uuid": "a2a971d0855fa5ac463eb113fd8ec770814bc960"
   },
   "source": [
    "## Exploratory Data Analysis\n",
    "\n",
    "Diagrams and graphs are the best way to explore the data, the following plots provide some insghts about the features, their relation with each others, and with our target variable, \"Churn\"."
   ]
  },
  {
   "cell_type": "code",
   "execution_count": 1,
   "metadata": {
    "_kg_hide-input": false,
    "_uuid": "87ee414cf66bd313ba8cba45a6f17d3eacc3b427"
   },
   "outputs": [
    {
     "name": "stdout",
     "output_type": "stream",
     "text": [
      "Telco Customer Churn Analysis\n"
     ]
    }
   ],
   "source": [
    "import numpy as np # linear algebra\n",
    "import pandas as pd # data processing, CSV file I/O (e.g. pd.read_csv)\n",
    "import os\n",
    "from IPython.display import IFrame\n",
    "print(\"Telco Customer Churn Analysis\")"
   ]
  },
  {
   "cell_type": "code",
   "execution_count": 2,
   "metadata": {},
   "outputs": [
    {
     "name": "stdout",
     "output_type": "stream",
     "text": [
      "Requirement already satisfied: imblearn in c:\\users\\sam\\anaconda3\\lib\\site-packages (0.0)\n",
      "Requirement already satisfied: imbalanced-learn in c:\\users\\sam\\anaconda3\\lib\\site-packages (from imblearn) (0.5.0)\n",
      "Requirement already satisfied: joblib>=0.11 in c:\\users\\sam\\anaconda3\\lib\\site-packages (from imbalanced-learn->imblearn) (0.13.2)\n",
      "Requirement already satisfied: scipy>=0.17 in c:\\users\\sam\\anaconda3\\lib\\site-packages (from imbalanced-learn->imblearn) (1.2.1)\n",
      "Requirement already satisfied: scikit-learn>=0.21 in c:\\users\\sam\\anaconda3\\lib\\site-packages (from imbalanced-learn->imblearn) (0.21.3)\n",
      "Requirement already satisfied: numpy>=1.11 in c:\\users\\sam\\anaconda3\\lib\\site-packages (from imbalanced-learn->imblearn) (1.16.2)\n",
      "Note: you may need to restart the kernel to use updated packages.\n"
     ]
    }
   ],
   "source": [
    "pip install imblearn"
   ]
  },
  {
   "cell_type": "markdown",
   "metadata": {
    "_uuid": "b42e09390e57abc9ab81650b62b63400115cc894"
   },
   "source": [
    "### Importing Libraries"
   ]
  },
  {
   "cell_type": "code",
   "execution_count": 3,
   "metadata": {
    "_kg_hide-input": false,
    "_uuid": "2b4e276fbeaece50ac596226915022a0b9a427ec"
   },
   "outputs": [],
   "source": [
    "import pandas as pd\n",
    "import numpy as np\n",
    "import random\n",
    "import matplotlib.pyplot as plt \n",
    "plt.rc(\"font\", size=14)\n",
    "import seaborn as sns\n",
    "sns.set(style=\"white\")\n",
    "sns.set(style=\"whitegrid\", color_codes=True)\n",
    "from sklearn.preprocessing import LabelEncoder\n",
    "from sklearn import preprocessing\n",
    "from sklearn.model_selection import train_test_split\n",
    "from sklearn.linear_model import LogisticRegression\n",
    "from sklearn.metrics import classification_report\n",
    "from sklearn.metrics import confusion_matrix"
   ]
  },
  {
   "cell_type": "markdown",
   "metadata": {
    "_uuid": "d47b111ca53743f08d49e17e0671dad07e444a19"
   },
   "source": [
    "### Importing Dataset"
   ]
  },
  {
   "cell_type": "code",
   "execution_count": 4,
   "metadata": {
    "_kg_hide-input": false,
    "_uuid": "eaf01b90a2c627474cdd13dd9031830a252e36f6"
   },
   "outputs": [
    {
     "data": {
      "text/plain": [
       "Index(['customerID', 'gender', 'SeniorCitizen', 'Partner', 'Dependents',\n",
       "       'tenure', 'PhoneService', 'MultipleLines', 'InternetService',\n",
       "       'OnlineSecurity', 'OnlineBackup', 'DeviceProtection', 'TechSupport',\n",
       "       'StreamingTV', 'StreamingMovies', 'Contract', 'PaperlessBilling',\n",
       "       'PaymentMethod', 'MonthlyCharges', 'TotalCharges', 'Churn'],\n",
       "      dtype='object')"
      ]
     },
     "execution_count": 4,
     "metadata": {},
     "output_type": "execute_result"
    }
   ],
   "source": [
    "df = pd.read_csv(\"Churn_data.csv\")\n",
    "df.columns"
   ]
  },
  {
   "cell_type": "code",
   "execution_count": 5,
   "metadata": {
    "_kg_hide-input": false,
    "_uuid": "43221f455608161db26d490f0958c0f87647e8af"
   },
   "outputs": [
    {
     "name": "stdout",
     "output_type": "stream",
     "text": [
      "(7043, 21)\n"
     ]
    }
   ],
   "source": [
    "print(df.shape)"
   ]
  },
  {
   "cell_type": "code",
   "execution_count": 6,
   "metadata": {
    "_kg_hide-input": false,
    "_uuid": "13fd7d42ba87f24c2fa9b65bd28165510ea7bb23"
   },
   "outputs": [
    {
     "data": {
      "text/html": [
       "<div>\n",
       "<style scoped>\n",
       "    .dataframe tbody tr th:only-of-type {\n",
       "        vertical-align: middle;\n",
       "    }\n",
       "\n",
       "    .dataframe tbody tr th {\n",
       "        vertical-align: top;\n",
       "    }\n",
       "\n",
       "    .dataframe thead th {\n",
       "        text-align: right;\n",
       "    }\n",
       "</style>\n",
       "<table border=\"1\" class=\"dataframe\">\n",
       "  <thead>\n",
       "    <tr style=\"text-align: right;\">\n",
       "      <th></th>\n",
       "      <th>customerID</th>\n",
       "      <th>gender</th>\n",
       "      <th>SeniorCitizen</th>\n",
       "      <th>Partner</th>\n",
       "      <th>Dependents</th>\n",
       "      <th>tenure</th>\n",
       "      <th>PhoneService</th>\n",
       "      <th>MultipleLines</th>\n",
       "      <th>InternetService</th>\n",
       "      <th>OnlineSecurity</th>\n",
       "      <th>...</th>\n",
       "      <th>DeviceProtection</th>\n",
       "      <th>TechSupport</th>\n",
       "      <th>StreamingTV</th>\n",
       "      <th>StreamingMovies</th>\n",
       "      <th>Contract</th>\n",
       "      <th>PaperlessBilling</th>\n",
       "      <th>PaymentMethod</th>\n",
       "      <th>MonthlyCharges</th>\n",
       "      <th>TotalCharges</th>\n",
       "      <th>Churn</th>\n",
       "    </tr>\n",
       "  </thead>\n",
       "  <tbody>\n",
       "    <tr>\n",
       "      <th>0</th>\n",
       "      <td>7590-VHVEG</td>\n",
       "      <td>Female</td>\n",
       "      <td>0</td>\n",
       "      <td>Yes</td>\n",
       "      <td>No</td>\n",
       "      <td>1</td>\n",
       "      <td>No</td>\n",
       "      <td>No phone service</td>\n",
       "      <td>DSL</td>\n",
       "      <td>No</td>\n",
       "      <td>...</td>\n",
       "      <td>No</td>\n",
       "      <td>No</td>\n",
       "      <td>No</td>\n",
       "      <td>No</td>\n",
       "      <td>Month-to-month</td>\n",
       "      <td>Yes</td>\n",
       "      <td>Electronic check</td>\n",
       "      <td>29.85</td>\n",
       "      <td>29.85</td>\n",
       "      <td>No</td>\n",
       "    </tr>\n",
       "    <tr>\n",
       "      <th>1</th>\n",
       "      <td>5575-GNVDE</td>\n",
       "      <td>Male</td>\n",
       "      <td>0</td>\n",
       "      <td>No</td>\n",
       "      <td>No</td>\n",
       "      <td>34</td>\n",
       "      <td>Yes</td>\n",
       "      <td>No</td>\n",
       "      <td>DSL</td>\n",
       "      <td>Yes</td>\n",
       "      <td>...</td>\n",
       "      <td>Yes</td>\n",
       "      <td>No</td>\n",
       "      <td>No</td>\n",
       "      <td>No</td>\n",
       "      <td>One year</td>\n",
       "      <td>No</td>\n",
       "      <td>Mailed check</td>\n",
       "      <td>56.95</td>\n",
       "      <td>1889.5</td>\n",
       "      <td>No</td>\n",
       "    </tr>\n",
       "    <tr>\n",
       "      <th>2</th>\n",
       "      <td>3668-QPYBK</td>\n",
       "      <td>Male</td>\n",
       "      <td>0</td>\n",
       "      <td>No</td>\n",
       "      <td>No</td>\n",
       "      <td>2</td>\n",
       "      <td>Yes</td>\n",
       "      <td>No</td>\n",
       "      <td>DSL</td>\n",
       "      <td>Yes</td>\n",
       "      <td>...</td>\n",
       "      <td>No</td>\n",
       "      <td>No</td>\n",
       "      <td>No</td>\n",
       "      <td>No</td>\n",
       "      <td>Month-to-month</td>\n",
       "      <td>Yes</td>\n",
       "      <td>Mailed check</td>\n",
       "      <td>53.85</td>\n",
       "      <td>108.15</td>\n",
       "      <td>Yes</td>\n",
       "    </tr>\n",
       "    <tr>\n",
       "      <th>3</th>\n",
       "      <td>7795-CFOCW</td>\n",
       "      <td>Male</td>\n",
       "      <td>0</td>\n",
       "      <td>No</td>\n",
       "      <td>No</td>\n",
       "      <td>45</td>\n",
       "      <td>No</td>\n",
       "      <td>No phone service</td>\n",
       "      <td>DSL</td>\n",
       "      <td>Yes</td>\n",
       "      <td>...</td>\n",
       "      <td>Yes</td>\n",
       "      <td>Yes</td>\n",
       "      <td>No</td>\n",
       "      <td>No</td>\n",
       "      <td>One year</td>\n",
       "      <td>No</td>\n",
       "      <td>Bank transfer (automatic)</td>\n",
       "      <td>42.30</td>\n",
       "      <td>1840.75</td>\n",
       "      <td>No</td>\n",
       "    </tr>\n",
       "    <tr>\n",
       "      <th>4</th>\n",
       "      <td>9237-HQITU</td>\n",
       "      <td>Female</td>\n",
       "      <td>0</td>\n",
       "      <td>No</td>\n",
       "      <td>No</td>\n",
       "      <td>2</td>\n",
       "      <td>Yes</td>\n",
       "      <td>No</td>\n",
       "      <td>Fiber optic</td>\n",
       "      <td>No</td>\n",
       "      <td>...</td>\n",
       "      <td>No</td>\n",
       "      <td>No</td>\n",
       "      <td>No</td>\n",
       "      <td>No</td>\n",
       "      <td>Month-to-month</td>\n",
       "      <td>Yes</td>\n",
       "      <td>Electronic check</td>\n",
       "      <td>70.70</td>\n",
       "      <td>151.65</td>\n",
       "      <td>Yes</td>\n",
       "    </tr>\n",
       "  </tbody>\n",
       "</table>\n",
       "<p>5 rows × 21 columns</p>\n",
       "</div>"
      ],
      "text/plain": [
       "   customerID  gender  SeniorCitizen Partner Dependents  tenure PhoneService  \\\n",
       "0  7590-VHVEG  Female              0     Yes         No       1           No   \n",
       "1  5575-GNVDE    Male              0      No         No      34          Yes   \n",
       "2  3668-QPYBK    Male              0      No         No       2          Yes   \n",
       "3  7795-CFOCW    Male              0      No         No      45           No   \n",
       "4  9237-HQITU  Female              0      No         No       2          Yes   \n",
       "\n",
       "      MultipleLines InternetService OnlineSecurity  ... DeviceProtection  \\\n",
       "0  No phone service             DSL             No  ...               No   \n",
       "1                No             DSL            Yes  ...              Yes   \n",
       "2                No             DSL            Yes  ...               No   \n",
       "3  No phone service             DSL            Yes  ...              Yes   \n",
       "4                No     Fiber optic             No  ...               No   \n",
       "\n",
       "  TechSupport StreamingTV StreamingMovies        Contract PaperlessBilling  \\\n",
       "0          No          No              No  Month-to-month              Yes   \n",
       "1          No          No              No        One year               No   \n",
       "2          No          No              No  Month-to-month              Yes   \n",
       "3         Yes          No              No        One year               No   \n",
       "4          No          No              No  Month-to-month              Yes   \n",
       "\n",
       "               PaymentMethod MonthlyCharges  TotalCharges Churn  \n",
       "0           Electronic check          29.85         29.85    No  \n",
       "1               Mailed check          56.95        1889.5    No  \n",
       "2               Mailed check          53.85        108.15   Yes  \n",
       "3  Bank transfer (automatic)          42.30       1840.75    No  \n",
       "4           Electronic check          70.70        151.65   Yes  \n",
       "\n",
       "[5 rows x 21 columns]"
      ]
     },
     "execution_count": 6,
     "metadata": {},
     "output_type": "execute_result"
    }
   ],
   "source": [
    "df.head()"
   ]
  },
  {
   "cell_type": "code",
   "execution_count": 7,
   "metadata": {
    "_kg_hide-input": false,
    "_uuid": "a1427bc2a36a4cd4a3c33667aa3f58015c408c2f"
   },
   "outputs": [
    {
     "name": "stdout",
     "output_type": "stream",
     "text": [
      "<class 'pandas.core.frame.DataFrame'>\n",
      "RangeIndex: 7043 entries, 0 to 7042\n",
      "Data columns (total 21 columns):\n",
      "customerID          7043 non-null object\n",
      "gender              7043 non-null object\n",
      "SeniorCitizen       7043 non-null int64\n",
      "Partner             7043 non-null object\n",
      "Dependents          7043 non-null object\n",
      "tenure              7043 non-null int64\n",
      "PhoneService        7043 non-null object\n",
      "MultipleLines       7043 non-null object\n",
      "InternetService     7043 non-null object\n",
      "OnlineSecurity      7043 non-null object\n",
      "OnlineBackup        7043 non-null object\n",
      "DeviceProtection    7043 non-null object\n",
      "TechSupport         7043 non-null object\n",
      "StreamingTV         7043 non-null object\n",
      "StreamingMovies     7043 non-null object\n",
      "Contract            7043 non-null object\n",
      "PaperlessBilling    7043 non-null object\n",
      "PaymentMethod       7043 non-null object\n",
      "MonthlyCharges      7043 non-null float64\n",
      "TotalCharges        7043 non-null object\n",
      "Churn               7043 non-null object\n",
      "dtypes: float64(1), int64(2), object(18)\n",
      "memory usage: 1.1+ MB\n"
     ]
    }
   ],
   "source": [
    "df.info()"
   ]
  },
  {
   "cell_type": "markdown",
   "metadata": {
    "_uuid": "eaac12a0d5505283f9df5ce405d4d0f9bca773bd"
   },
   "source": [
    "Total charges is categorical, it should be changed to float."
   ]
  },
  {
   "cell_type": "code",
   "execution_count": 8,
   "metadata": {
    "_kg_hide-input": false,
    "_uuid": "64bd0a10a8a9db5e98946baf006783855222f70b"
   },
   "outputs": [],
   "source": [
    "df['TotalCharges'] = pd.to_numeric(df['TotalCharges'], errors='coerce')"
   ]
  },
  {
   "cell_type": "code",
   "execution_count": 9,
   "metadata": {
    "_kg_hide-input": false,
    "_uuid": "aa6d120ccfc0f62e0a56ac8854568cd9b7dd15a3"
   },
   "outputs": [
    {
     "data": {
      "text/plain": [
       "customerID          0\n",
       "gender              0\n",
       "SeniorCitizen       0\n",
       "Partner             0\n",
       "Dependents          0\n",
       "tenure              0\n",
       "PhoneService        0\n",
       "MultipleLines       0\n",
       "InternetService     0\n",
       "OnlineSecurity      0\n",
       "OnlineBackup        0\n",
       "DeviceProtection    0\n",
       "TechSupport         0\n",
       "StreamingTV         0\n",
       "StreamingMovies     0\n",
       "Contract            0\n",
       "PaperlessBilling    0\n",
       "PaymentMethod       0\n",
       "MonthlyCharges      0\n",
       "TotalCharges        0\n",
       "Churn               0\n",
       "dtype: int64"
      ]
     },
     "execution_count": 9,
     "metadata": {},
     "output_type": "execute_result"
    }
   ],
   "source": [
    "df['TotalCharges'].fillna(0, inplace=True)\n",
    "df.isnull().sum()"
   ]
  },
  {
   "cell_type": "markdown",
   "metadata": {
    "_uuid": "b9acfba6264c8adf8f7a95b0e52cd1233d8ea9b1"
   },
   "source": [
    "### Transform dependent variable to binaries."
   ]
  },
  {
   "cell_type": "code",
   "execution_count": 10,
   "metadata": {
    "_kg_hide-input": false,
    "_uuid": "322dc5e86e53529d38645dd3ae6e5f25d5ebcd17"
   },
   "outputs": [
    {
     "data": {
      "text/html": [
       "<div>\n",
       "<style scoped>\n",
       "    .dataframe tbody tr th:only-of-type {\n",
       "        vertical-align: middle;\n",
       "    }\n",
       "\n",
       "    .dataframe tbody tr th {\n",
       "        vertical-align: top;\n",
       "    }\n",
       "\n",
       "    .dataframe thead th {\n",
       "        text-align: right;\n",
       "    }\n",
       "</style>\n",
       "<table border=\"1\" class=\"dataframe\">\n",
       "  <thead>\n",
       "    <tr style=\"text-align: right;\">\n",
       "      <th></th>\n",
       "      <th>Churn</th>\n",
       "      <th>Churn_Bi</th>\n",
       "    </tr>\n",
       "  </thead>\n",
       "  <tbody>\n",
       "    <tr>\n",
       "      <th>0</th>\n",
       "      <td>No</td>\n",
       "      <td>0</td>\n",
       "    </tr>\n",
       "    <tr>\n",
       "      <th>1</th>\n",
       "      <td>No</td>\n",
       "      <td>0</td>\n",
       "    </tr>\n",
       "    <tr>\n",
       "      <th>2</th>\n",
       "      <td>Yes</td>\n",
       "      <td>1</td>\n",
       "    </tr>\n",
       "    <tr>\n",
       "      <th>3</th>\n",
       "      <td>No</td>\n",
       "      <td>0</td>\n",
       "    </tr>\n",
       "    <tr>\n",
       "      <th>4</th>\n",
       "      <td>Yes</td>\n",
       "      <td>1</td>\n",
       "    </tr>\n",
       "  </tbody>\n",
       "</table>\n",
       "</div>"
      ],
      "text/plain": [
       "  Churn  Churn_Bi\n",
       "0    No         0\n",
       "1    No         0\n",
       "2   Yes         1\n",
       "3    No         0\n",
       "4   Yes         1"
      ]
     },
     "execution_count": 10,
     "metadata": {},
     "output_type": "execute_result"
    }
   ],
   "source": [
    "lb_make = LabelEncoder()\n",
    "df['Churn_Bi'] = lb_make.fit_transform(df[\"Churn\"])\n",
    "df[[\"Churn\", \"Churn_Bi\"]].head()"
   ]
  },
  {
   "cell_type": "markdown",
   "metadata": {
    "_uuid": "8d1dd1bacb55c14c4fc81142bb00ddb1dd58f0a3"
   },
   "source": [
    "### Remove Churn and Customer ID from the dataset"
   ]
  },
  {
   "cell_type": "code",
   "execution_count": 11,
   "metadata": {
    "_kg_hide-input": false,
    "_uuid": "3353bd7fe3193d9ddcd6510069167ce3dfe48c58"
   },
   "outputs": [
    {
     "name": "stdout",
     "output_type": "stream",
     "text": [
      "(7043, 20)\n"
     ]
    },
    {
     "data": {
      "text/html": [
       "<div>\n",
       "<style scoped>\n",
       "    .dataframe tbody tr th:only-of-type {\n",
       "        vertical-align: middle;\n",
       "    }\n",
       "\n",
       "    .dataframe tbody tr th {\n",
       "        vertical-align: top;\n",
       "    }\n",
       "\n",
       "    .dataframe thead th {\n",
       "        text-align: right;\n",
       "    }\n",
       "</style>\n",
       "<table border=\"1\" class=\"dataframe\">\n",
       "  <thead>\n",
       "    <tr style=\"text-align: right;\">\n",
       "      <th></th>\n",
       "      <th>gender</th>\n",
       "      <th>SeniorCitizen</th>\n",
       "      <th>Partner</th>\n",
       "      <th>Dependents</th>\n",
       "      <th>tenure</th>\n",
       "      <th>PhoneService</th>\n",
       "      <th>MultipleLines</th>\n",
       "      <th>InternetService</th>\n",
       "      <th>OnlineSecurity</th>\n",
       "      <th>OnlineBackup</th>\n",
       "      <th>DeviceProtection</th>\n",
       "      <th>TechSupport</th>\n",
       "      <th>StreamingTV</th>\n",
       "      <th>StreamingMovies</th>\n",
       "      <th>Contract</th>\n",
       "      <th>PaperlessBilling</th>\n",
       "      <th>PaymentMethod</th>\n",
       "      <th>MonthlyCharges</th>\n",
       "      <th>TotalCharges</th>\n",
       "      <th>Churn_Bi</th>\n",
       "    </tr>\n",
       "  </thead>\n",
       "  <tbody>\n",
       "    <tr>\n",
       "      <th>0</th>\n",
       "      <td>Female</td>\n",
       "      <td>0</td>\n",
       "      <td>Yes</td>\n",
       "      <td>No</td>\n",
       "      <td>1</td>\n",
       "      <td>No</td>\n",
       "      <td>No phone service</td>\n",
       "      <td>DSL</td>\n",
       "      <td>No</td>\n",
       "      <td>Yes</td>\n",
       "      <td>No</td>\n",
       "      <td>No</td>\n",
       "      <td>No</td>\n",
       "      <td>No</td>\n",
       "      <td>Month-to-month</td>\n",
       "      <td>Yes</td>\n",
       "      <td>Electronic check</td>\n",
       "      <td>29.85</td>\n",
       "      <td>29.85</td>\n",
       "      <td>0</td>\n",
       "    </tr>\n",
       "    <tr>\n",
       "      <th>1</th>\n",
       "      <td>Male</td>\n",
       "      <td>0</td>\n",
       "      <td>No</td>\n",
       "      <td>No</td>\n",
       "      <td>34</td>\n",
       "      <td>Yes</td>\n",
       "      <td>No</td>\n",
       "      <td>DSL</td>\n",
       "      <td>Yes</td>\n",
       "      <td>No</td>\n",
       "      <td>Yes</td>\n",
       "      <td>No</td>\n",
       "      <td>No</td>\n",
       "      <td>No</td>\n",
       "      <td>One year</td>\n",
       "      <td>No</td>\n",
       "      <td>Mailed check</td>\n",
       "      <td>56.95</td>\n",
       "      <td>1889.50</td>\n",
       "      <td>0</td>\n",
       "    </tr>\n",
       "    <tr>\n",
       "      <th>2</th>\n",
       "      <td>Male</td>\n",
       "      <td>0</td>\n",
       "      <td>No</td>\n",
       "      <td>No</td>\n",
       "      <td>2</td>\n",
       "      <td>Yes</td>\n",
       "      <td>No</td>\n",
       "      <td>DSL</td>\n",
       "      <td>Yes</td>\n",
       "      <td>Yes</td>\n",
       "      <td>No</td>\n",
       "      <td>No</td>\n",
       "      <td>No</td>\n",
       "      <td>No</td>\n",
       "      <td>Month-to-month</td>\n",
       "      <td>Yes</td>\n",
       "      <td>Mailed check</td>\n",
       "      <td>53.85</td>\n",
       "      <td>108.15</td>\n",
       "      <td>1</td>\n",
       "    </tr>\n",
       "    <tr>\n",
       "      <th>3</th>\n",
       "      <td>Male</td>\n",
       "      <td>0</td>\n",
       "      <td>No</td>\n",
       "      <td>No</td>\n",
       "      <td>45</td>\n",
       "      <td>No</td>\n",
       "      <td>No phone service</td>\n",
       "      <td>DSL</td>\n",
       "      <td>Yes</td>\n",
       "      <td>No</td>\n",
       "      <td>Yes</td>\n",
       "      <td>Yes</td>\n",
       "      <td>No</td>\n",
       "      <td>No</td>\n",
       "      <td>One year</td>\n",
       "      <td>No</td>\n",
       "      <td>Bank transfer (automatic)</td>\n",
       "      <td>42.30</td>\n",
       "      <td>1840.75</td>\n",
       "      <td>0</td>\n",
       "    </tr>\n",
       "    <tr>\n",
       "      <th>4</th>\n",
       "      <td>Female</td>\n",
       "      <td>0</td>\n",
       "      <td>No</td>\n",
       "      <td>No</td>\n",
       "      <td>2</td>\n",
       "      <td>Yes</td>\n",
       "      <td>No</td>\n",
       "      <td>Fiber optic</td>\n",
       "      <td>No</td>\n",
       "      <td>No</td>\n",
       "      <td>No</td>\n",
       "      <td>No</td>\n",
       "      <td>No</td>\n",
       "      <td>No</td>\n",
       "      <td>Month-to-month</td>\n",
       "      <td>Yes</td>\n",
       "      <td>Electronic check</td>\n",
       "      <td>70.70</td>\n",
       "      <td>151.65</td>\n",
       "      <td>1</td>\n",
       "    </tr>\n",
       "  </tbody>\n",
       "</table>\n",
       "</div>"
      ],
      "text/plain": [
       "   gender  SeniorCitizen Partner Dependents  tenure PhoneService  \\\n",
       "0  Female              0     Yes         No       1           No   \n",
       "1    Male              0      No         No      34          Yes   \n",
       "2    Male              0      No         No       2          Yes   \n",
       "3    Male              0      No         No      45           No   \n",
       "4  Female              0      No         No       2          Yes   \n",
       "\n",
       "      MultipleLines InternetService OnlineSecurity OnlineBackup  \\\n",
       "0  No phone service             DSL             No          Yes   \n",
       "1                No             DSL            Yes           No   \n",
       "2                No             DSL            Yes          Yes   \n",
       "3  No phone service             DSL            Yes           No   \n",
       "4                No     Fiber optic             No           No   \n",
       "\n",
       "  DeviceProtection TechSupport StreamingTV StreamingMovies        Contract  \\\n",
       "0               No          No          No              No  Month-to-month   \n",
       "1              Yes          No          No              No        One year   \n",
       "2               No          No          No              No  Month-to-month   \n",
       "3              Yes         Yes          No              No        One year   \n",
       "4               No          No          No              No  Month-to-month   \n",
       "\n",
       "  PaperlessBilling              PaymentMethod  MonthlyCharges  TotalCharges  \\\n",
       "0              Yes           Electronic check           29.85         29.85   \n",
       "1               No               Mailed check           56.95       1889.50   \n",
       "2              Yes               Mailed check           53.85        108.15   \n",
       "3               No  Bank transfer (automatic)           42.30       1840.75   \n",
       "4              Yes           Electronic check           70.70        151.65   \n",
       "\n",
       "   Churn_Bi  \n",
       "0         0  \n",
       "1         0  \n",
       "2         1  \n",
       "3         0  \n",
       "4         1  "
      ]
     },
     "execution_count": 11,
     "metadata": {},
     "output_type": "execute_result"
    }
   ],
   "source": [
    "dataset=df.drop('customerID', axis=1)\n",
    "dataset=dataset.drop('Churn', axis=1)\n",
    "print(dataset.shape)\n",
    "dataset.head()"
   ]
  },
  {
   "cell_type": "markdown",
   "metadata": {
    "_uuid": "8fca2103d4cdb044c8080e2e5725d0e65d3e4311"
   },
   "source": [
    "### Normalize Continuous variable"
   ]
  },
  {
   "cell_type": "code",
   "execution_count": 12,
   "metadata": {
    "_kg_hide-input": false,
    "_uuid": "67d9913cef1382a2be947485dd4361260907a20d"
   },
   "outputs": [
    {
     "name": "stdout",
     "output_type": "stream",
     "text": [
      "(7043, 3)\n"
     ]
    }
   ],
   "source": [
    "colToNorm = ('TotalCharges','MonthlyCharges','tenure')\n",
    "subsetToNormalize = dataset[list(colToNorm)]\n",
    "print(subsetToNormalize.shape)"
   ]
  },
  {
   "cell_type": "code",
   "execution_count": 13,
   "metadata": {
    "_kg_hide-input": false,
    "_uuid": "16fb4693bcab1c84d13d8be66aab96eed0917105"
   },
   "outputs": [],
   "source": [
    "subsetToKeep = dataset.drop(list(colToNorm), axis=1)"
   ]
  },
  {
   "cell_type": "code",
   "execution_count": 14,
   "metadata": {
    "_kg_hide-input": false,
    "_uuid": "a8b58574879333b593944a233b5ebbee7fad5488"
   },
   "outputs": [
    {
     "name": "stdout",
     "output_type": "stream",
     "text": [
      "(7043, 17)\n"
     ]
    }
   ],
   "source": [
    "print(subsetToKeep.shape)"
   ]
  },
  {
   "cell_type": "code",
   "execution_count": 15,
   "metadata": {
    "_kg_hide-input": false,
    "_uuid": "eec84dc38d8b499836f617c6908470102c218aba"
   },
   "outputs": [
    {
     "data": {
      "text/plain": [
       "StandardScaler(copy=True, with_mean=True, with_std=True)"
      ]
     },
     "execution_count": 15,
     "metadata": {},
     "output_type": "execute_result"
    }
   ],
   "source": [
    "preObj = preprocessing.StandardScaler().fit(subsetToNormalize)\n",
    "preObj"
   ]
  },
  {
   "cell_type": "code",
   "execution_count": 16,
   "metadata": {
    "_kg_hide-input": true,
    "_uuid": "07ebdc3c6cb716a855fdb84ae1cc1f02385ecbf4"
   },
   "outputs": [
    {
     "data": {
      "text/plain": [
       "array([2266.63353863,   30.08791085,   24.55773742])"
      ]
     },
     "execution_count": 16,
     "metadata": {},
     "output_type": "execute_result"
    }
   ],
   "source": [
    "preObj.mean_\n",
    "preObj.scale_"
   ]
  },
  {
   "cell_type": "code",
   "execution_count": 17,
   "metadata": {
    "_kg_hide-input": false,
    "_uuid": "a90402874ae276c88707299d684d1c70fc50d431"
   },
   "outputs": [],
   "source": [
    "preObj = preObj.transform(subsetToNormalize)"
   ]
  },
  {
   "cell_type": "code",
   "execution_count": 18,
   "metadata": {
    "_kg_hide-input": false,
    "_uuid": "b821dbc40e48d4fda985a7b6150f2b2357b0c6ca"
   },
   "outputs": [],
   "source": [
    "preObj = pd.DataFrame(preObj, columns=list(('TotalCharges','MonthlyCharges','tenure')))\n",
    "subsetToKeep = pd.DataFrame(subsetToKeep)"
   ]
  },
  {
   "cell_type": "code",
   "execution_count": 19,
   "metadata": {
    "_kg_hide-input": false,
    "_uuid": "e23c0d9d66c80b781c075c4c683517db68f22173"
   },
   "outputs": [],
   "source": [
    "dataset = pd.concat([preObj.reset_index(drop=True), subsetToKeep.reset_index(drop=True)], axis=1)"
   ]
  },
  {
   "cell_type": "markdown",
   "metadata": {
    "_uuid": "1d9a12117953904936428bd71edea56e759ac204"
   },
   "source": [
    "### Creating Dummy Variables "
   ]
  },
  {
   "cell_type": "code",
   "execution_count": 20,
   "metadata": {
    "_kg_hide-input": false,
    "_kg_hide-output": false,
    "_uuid": "e2513dbcf1bbd267d46cb121a9f490c04bdfe130"
   },
   "outputs": [],
   "source": [
    "cat_vars=['gender', 'SeniorCitizen',\n",
    "       'Partner', 'Dependents', 'PhoneService', 'MultipleLines',\n",
    "       'InternetService', 'OnlineSecurity', 'OnlineBackup', 'DeviceProtection',\n",
    "       'TechSupport', 'StreamingTV', 'StreamingMovies', 'Contract',\n",
    "       'PaperlessBilling', 'PaymentMethod']"
   ]
  },
  {
   "cell_type": "code",
   "execution_count": 21,
   "metadata": {
    "_kg_hide-input": false,
    "_uuid": "390ea9fb2ffd5f508e599d13ba96d12a7c242c77"
   },
   "outputs": [],
   "source": [
    "for var in cat_vars:\n",
    "    cat_list='var' + '_' + var\n",
    "    cat_list=pd.get_dummies(dataset[var],prefix=var)\n",
    "    dataset_dum=dataset.join(cat_list)\n",
    "    dataset=dataset_dum"
   ]
  },
  {
   "cell_type": "code",
   "execution_count": 22,
   "metadata": {
    "_kg_hide-input": false,
    "_uuid": "f273a3194da2e1953e0c80647c25b4a3c6efb930"
   },
   "outputs": [
    {
     "data": {
      "text/plain": [
       "Index(['TotalCharges', 'MonthlyCharges', 'tenure', 'gender', 'SeniorCitizen',\n",
       "       'Partner', 'Dependents', 'PhoneService', 'MultipleLines',\n",
       "       'InternetService', 'OnlineSecurity', 'OnlineBackup', 'DeviceProtection',\n",
       "       'TechSupport', 'StreamingTV', 'StreamingMovies', 'Contract',\n",
       "       'PaperlessBilling', 'PaymentMethod', 'Churn_Bi', 'gender_Female',\n",
       "       'gender_Male', 'SeniorCitizen_0', 'SeniorCitizen_1', 'Partner_No',\n",
       "       'Partner_Yes', 'Dependents_No', 'Dependents_Yes', 'PhoneService_No',\n",
       "       'PhoneService_Yes', 'MultipleLines_No',\n",
       "       'MultipleLines_No phone service', 'MultipleLines_Yes',\n",
       "       'InternetService_DSL', 'InternetService_Fiber optic',\n",
       "       'InternetService_No', 'OnlineSecurity_No',\n",
       "       'OnlineSecurity_No internet service', 'OnlineSecurity_Yes',\n",
       "       'OnlineBackup_No', 'OnlineBackup_No internet service',\n",
       "       'OnlineBackup_Yes', 'DeviceProtection_No',\n",
       "       'DeviceProtection_No internet service', 'DeviceProtection_Yes',\n",
       "       'TechSupport_No', 'TechSupport_No internet service', 'TechSupport_Yes',\n",
       "       'StreamingTV_No', 'StreamingTV_No internet service', 'StreamingTV_Yes',\n",
       "       'StreamingMovies_No', 'StreamingMovies_No internet service',\n",
       "       'StreamingMovies_Yes', 'Contract_Month-to-month', 'Contract_One year',\n",
       "       'Contract_Two year', 'PaperlessBilling_No', 'PaperlessBilling_Yes',\n",
       "       'PaymentMethod_Bank transfer (automatic)',\n",
       "       'PaymentMethod_Credit card (automatic)',\n",
       "       'PaymentMethod_Electronic check', 'PaymentMethod_Mailed check'],\n",
       "      dtype='object')"
      ]
     },
     "execution_count": 22,
     "metadata": {},
     "output_type": "execute_result"
    }
   ],
   "source": [
    "dataset.columns"
   ]
  },
  {
   "cell_type": "code",
   "execution_count": 23,
   "metadata": {
    "_kg_hide-input": false,
    "_uuid": "a05d2fae779542ce7d4a20cb74c9470fda74d730"
   },
   "outputs": [],
   "source": [
    "dataset_vars=dataset.columns.values.tolist()\n",
    "to_keep=[i for i in dataset_vars if i not in cat_vars]"
   ]
  },
  {
   "cell_type": "code",
   "execution_count": 24,
   "metadata": {
    "_kg_hide-input": false,
    "_uuid": "62c3752b6a3dea40c05051c8eb6f63298d6c524e"
   },
   "outputs": [
    {
     "data": {
      "text/plain": [
       "array(['TotalCharges', 'MonthlyCharges', 'tenure', 'Churn_Bi',\n",
       "       'gender_Female', 'gender_Male', 'SeniorCitizen_0',\n",
       "       'SeniorCitizen_1', 'Partner_No', 'Partner_Yes', 'Dependents_No',\n",
       "       'Dependents_Yes', 'PhoneService_No', 'PhoneService_Yes',\n",
       "       'MultipleLines_No', 'MultipleLines_No phone service',\n",
       "       'MultipleLines_Yes', 'InternetService_DSL',\n",
       "       'InternetService_Fiber optic', 'InternetService_No',\n",
       "       'OnlineSecurity_No', 'OnlineSecurity_No internet service',\n",
       "       'OnlineSecurity_Yes', 'OnlineBackup_No',\n",
       "       'OnlineBackup_No internet service', 'OnlineBackup_Yes',\n",
       "       'DeviceProtection_No', 'DeviceProtection_No internet service',\n",
       "       'DeviceProtection_Yes', 'TechSupport_No',\n",
       "       'TechSupport_No internet service', 'TechSupport_Yes',\n",
       "       'StreamingTV_No', 'StreamingTV_No internet service',\n",
       "       'StreamingTV_Yes', 'StreamingMovies_No',\n",
       "       'StreamingMovies_No internet service', 'StreamingMovies_Yes',\n",
       "       'Contract_Month-to-month', 'Contract_One year',\n",
       "       'Contract_Two year', 'PaperlessBilling_No', 'PaperlessBilling_Yes',\n",
       "       'PaymentMethod_Bank transfer (automatic)',\n",
       "       'PaymentMethod_Credit card (automatic)',\n",
       "       'PaymentMethod_Electronic check', 'PaymentMethod_Mailed check'],\n",
       "      dtype=object)"
      ]
     },
     "execution_count": 24,
     "metadata": {},
     "output_type": "execute_result"
    }
   ],
   "source": [
    "dataset_v2=dataset[to_keep]\n",
    "dataset_v2.columns.values"
   ]
  },
  {
   "cell_type": "code",
   "execution_count": 25,
   "metadata": {
    "_kg_hide-input": false,
    "_uuid": "e312d162deccc6fc6cda5aeede463ccfdd1c98c4"
   },
   "outputs": [
    {
     "data": {
      "text/plain": [
       "(7043, 47)"
      ]
     },
     "execution_count": 25,
     "metadata": {},
     "output_type": "execute_result"
    }
   ],
   "source": [
    "dataset_v2.shape"
   ]
  },
  {
   "cell_type": "markdown",
   "metadata": {
    "_uuid": "c5e2b8df5e292237968cd8b666e140da120460f1"
   },
   "source": [
    "### Split, train and Test"
   ]
  },
  {
   "cell_type": "code",
   "execution_count": 26,
   "metadata": {
    "_kg_hide-input": false,
    "_uuid": "5d8f04eb7380ac57fb09dea6087e2b9dd79a809a"
   },
   "outputs": [
    {
     "data": {
      "text/plain": [
       "(7043, 47)"
      ]
     },
     "execution_count": 26,
     "metadata": {},
     "output_type": "execute_result"
    }
   ],
   "source": [
    "X = dataset_v2.drop(['Churn_Bi'], axis=1)\n",
    "y = dataset_v2[['Churn_Bi']]\n",
    "dataset_v2.shape"
   ]
  },
  {
   "cell_type": "code",
   "execution_count": 27,
   "metadata": {
    "_kg_hide-input": false,
    "_uuid": "c7f60ed18d042ed9e476cde05dfba263f073adb5"
   },
   "outputs": [],
   "source": [
    "X_train, X_test, y_train,y_test = train_test_split(X,y,test_size=0.2,random_state=3457)"
   ]
  },
  {
   "cell_type": "code",
   "execution_count": 28,
   "metadata": {
    "_kg_hide-input": false,
    "_uuid": "d08530f230fcb17309c3f42f5f9e01f4d4ce5e90"
   },
   "outputs": [
    {
     "name": "stderr",
     "output_type": "stream",
     "text": [
      "C:\\Users\\sam\\Anaconda3\\lib\\site-packages\\sklearn\\linear_model\\logistic.py:432: FutureWarning: Default solver will be changed to 'lbfgs' in 0.22. Specify a solver to silence this warning.\n",
      "  FutureWarning)\n"
     ]
    },
    {
     "data": {
      "text/plain": [
       "LogisticRegression(C=1.0, class_weight=None, dual=False, fit_intercept=True,\n",
       "                   intercept_scaling=1, l1_ratio=None, max_iter=100,\n",
       "                   multi_class='warn', n_jobs=None, penalty='l2',\n",
       "                   random_state=None, solver='warn', tol=0.0001, verbose=0,\n",
       "                   warm_start=False)"
      ]
     },
     "execution_count": 28,
     "metadata": {},
     "output_type": "execute_result"
    }
   ],
   "source": [
    "classifier = LogisticRegression()\n",
    "classifier.fit(X_train, y_train.values.ravel())"
   ]
  },
  {
   "cell_type": "code",
   "execution_count": 29,
   "metadata": {
    "_kg_hide-input": false,
    "_uuid": "457c73607a1f9751483ee658c622b0249f0c811b"
   },
   "outputs": [
    {
     "name": "stdout",
     "output_type": "stream",
     "text": [
      "[[917 105]\n",
      " [180 207]]\n"
     ]
    }
   ],
   "source": [
    "y_pred = classifier.predict(X_test)\n",
    "cf_mx = confusion_matrix(y_test, y_pred)\n",
    "print(cf_mx)"
   ]
  },
  {
   "cell_type": "code",
   "execution_count": 30,
   "metadata": {
    "_kg_hide-input": false,
    "_uuid": "d0dcd9fb0729bd26fbb1cee29cbf84ee1dda5f98"
   },
   "outputs": [
    {
     "name": "stdout",
     "output_type": "stream",
     "text": [
      "Score of logistic regression classifier on test set: 0.80\n"
     ]
    }
   ],
   "source": [
    "print('Score of logistic regression classifier on test set: {:.2f}'.format(classifier.score(X_test, y_test)))"
   ]
  },
  {
   "cell_type": "code",
   "execution_count": 31,
   "metadata": {
    "_kg_hide-input": false,
    "_uuid": "ad08fb73205d0ebb7438d2425a43a0e749b3f7cf"
   },
   "outputs": [
    {
     "name": "stdout",
     "output_type": "stream",
     "text": [
      "              precision    recall  f1-score   support\n",
      "\n",
      "           0       0.84      0.90      0.87      1022\n",
      "           1       0.66      0.53      0.59       387\n",
      "\n",
      "    accuracy                           0.80      1409\n",
      "   macro avg       0.75      0.72      0.73      1409\n",
      "weighted avg       0.79      0.80      0.79      1409\n",
      "\n"
     ]
    }
   ],
   "source": [
    "print(classification_report(y_test, y_pred))"
   ]
  },
  {
   "cell_type": "markdown",
   "metadata": {},
   "source": [
    "We got 80% classification accuracy from our logistic regression classifier. But the precision and recall for predictions in the positive class (churn) are relatively low, which suggests our data set may be imbalanced."
   ]
  },
  {
   "cell_type": "markdown",
   "metadata": {
    "_uuid": "d891c2173fd18c7dae0555ce2aae19cb7934981f"
   },
   "source": [
    "## 3. Feature Engineering"
   ]
  },
  {
   "cell_type": "markdown",
   "metadata": {
    "_uuid": "36221a5b9acfe792bf98a050fe55cb401a80df4b"
   },
   "source": [
    "### Importing Packages"
   ]
  },
  {
   "cell_type": "code",
   "execution_count": 32,
   "metadata": {
    "_kg_hide-input": false,
    "_uuid": "aaee6546de1bb64e39561541b0db2a0c0b6a5e82"
   },
   "outputs": [],
   "source": [
    "import pandas as pd\n",
    "import numpy as np\n",
    "import random\n",
    "from sklearn import preprocessing\n",
    "from sklearn.model_selection import train_test_split\n",
    "from sklearn.neighbors import KNeighborsClassifier\n",
    "from sklearn import datasets, linear_model\n",
    "from sklearn import metrics\n",
    "from sklearn.metrics import mean_squared_error, r2_score\n",
    "from sklearn.metrics import confusion_matrix\n",
    "from sklearn.metrics import accuracy_score\n",
    "from sklearn.metrics import recall_score\n",
    "from sklearn.metrics import precision_score\n",
    "from sklearn.metrics import classification_report\n",
    "from sklearn.metrics import roc_auc_score,roc_curve\n",
    "from sklearn.model_selection import GridSearchCV\n",
    "from sklearn.preprocessing import LabelEncoder\n",
    "from sklearn.linear_model import LogisticRegression\n",
    "#from sklearn.cross_validation import train_test_split\n",
    "from sklearn.model_selection import KFold # import KFold\n",
    "#from sklearn.cross_validation import cross_val_score, cross_val_predict\n",
    "from sklearn.model_selection import cross_validate\n",
    "\n",
    "import matplotlib.pyplot as plt \n",
    "plt.rc(\"font\", size=14)\n",
    "import seaborn as sns\n",
    "sns.set(style=\"white\")\n",
    "sns.set(style=\"whitegrid\", color_codes=True)"
   ]
  },
  {
   "cell_type": "markdown",
   "metadata": {
    "_uuid": "b0178f0d5b7ceed45736b1718e4873147d0ccb27"
   },
   "source": [
    "### Importing Dataset"
   ]
  },
  {
   "cell_type": "code",
   "execution_count": 33,
   "metadata": {
    "_kg_hide-input": false,
    "_uuid": "4486842b2c10f5edc0f8f2c6298dd1a07c7f6158"
   },
   "outputs": [
    {
     "data": {
      "text/plain": [
       "Index(['customerID', 'gender', 'SeniorCitizen', 'Partner', 'Dependents',\n",
       "       'tenure', 'PhoneService', 'MultipleLines', 'InternetService',\n",
       "       'OnlineSecurity', 'OnlineBackup', 'DeviceProtection', 'TechSupport',\n",
       "       'StreamingTV', 'StreamingMovies', 'Contract', 'PaperlessBilling',\n",
       "       'PaymentMethod', 'MonthlyCharges', 'TotalCharges', 'Churn'],\n",
       "      dtype='object')"
      ]
     },
     "execution_count": 33,
     "metadata": {},
     "output_type": "execute_result"
    }
   ],
   "source": [
    "df = pd.read_csv(\"Churn_data.csv\")\n",
    "df.columns"
   ]
  },
  {
   "cell_type": "code",
   "execution_count": 34,
   "metadata": {
    "_kg_hide-input": false,
    "_uuid": "e1c91a974e03763dc4a95b2ab8f9c98e11a7426b"
   },
   "outputs": [
    {
     "data": {
      "text/html": [
       "<div>\n",
       "<style scoped>\n",
       "    .dataframe tbody tr th:only-of-type {\n",
       "        vertical-align: middle;\n",
       "    }\n",
       "\n",
       "    .dataframe tbody tr th {\n",
       "        vertical-align: top;\n",
       "    }\n",
       "\n",
       "    .dataframe thead th {\n",
       "        text-align: right;\n",
       "    }\n",
       "</style>\n",
       "<table border=\"1\" class=\"dataframe\">\n",
       "  <thead>\n",
       "    <tr style=\"text-align: right;\">\n",
       "      <th></th>\n",
       "      <th>customerID</th>\n",
       "      <th>gender</th>\n",
       "      <th>SeniorCitizen</th>\n",
       "      <th>Partner</th>\n",
       "      <th>Dependents</th>\n",
       "      <th>tenure</th>\n",
       "      <th>PhoneService</th>\n",
       "      <th>MultipleLines</th>\n",
       "      <th>InternetService</th>\n",
       "      <th>OnlineSecurity</th>\n",
       "      <th>...</th>\n",
       "      <th>DeviceProtection</th>\n",
       "      <th>TechSupport</th>\n",
       "      <th>StreamingTV</th>\n",
       "      <th>StreamingMovies</th>\n",
       "      <th>Contract</th>\n",
       "      <th>PaperlessBilling</th>\n",
       "      <th>PaymentMethod</th>\n",
       "      <th>MonthlyCharges</th>\n",
       "      <th>TotalCharges</th>\n",
       "      <th>Churn</th>\n",
       "    </tr>\n",
       "  </thead>\n",
       "  <tbody>\n",
       "    <tr>\n",
       "      <th>0</th>\n",
       "      <td>7590-VHVEG</td>\n",
       "      <td>Female</td>\n",
       "      <td>0</td>\n",
       "      <td>Yes</td>\n",
       "      <td>No</td>\n",
       "      <td>1</td>\n",
       "      <td>No</td>\n",
       "      <td>No phone service</td>\n",
       "      <td>DSL</td>\n",
       "      <td>No</td>\n",
       "      <td>...</td>\n",
       "      <td>No</td>\n",
       "      <td>No</td>\n",
       "      <td>No</td>\n",
       "      <td>No</td>\n",
       "      <td>Month-to-month</td>\n",
       "      <td>Yes</td>\n",
       "      <td>Electronic check</td>\n",
       "      <td>29.85</td>\n",
       "      <td>29.85</td>\n",
       "      <td>No</td>\n",
       "    </tr>\n",
       "    <tr>\n",
       "      <th>1</th>\n",
       "      <td>5575-GNVDE</td>\n",
       "      <td>Male</td>\n",
       "      <td>0</td>\n",
       "      <td>No</td>\n",
       "      <td>No</td>\n",
       "      <td>34</td>\n",
       "      <td>Yes</td>\n",
       "      <td>No</td>\n",
       "      <td>DSL</td>\n",
       "      <td>Yes</td>\n",
       "      <td>...</td>\n",
       "      <td>Yes</td>\n",
       "      <td>No</td>\n",
       "      <td>No</td>\n",
       "      <td>No</td>\n",
       "      <td>One year</td>\n",
       "      <td>No</td>\n",
       "      <td>Mailed check</td>\n",
       "      <td>56.95</td>\n",
       "      <td>1889.5</td>\n",
       "      <td>No</td>\n",
       "    </tr>\n",
       "    <tr>\n",
       "      <th>2</th>\n",
       "      <td>3668-QPYBK</td>\n",
       "      <td>Male</td>\n",
       "      <td>0</td>\n",
       "      <td>No</td>\n",
       "      <td>No</td>\n",
       "      <td>2</td>\n",
       "      <td>Yes</td>\n",
       "      <td>No</td>\n",
       "      <td>DSL</td>\n",
       "      <td>Yes</td>\n",
       "      <td>...</td>\n",
       "      <td>No</td>\n",
       "      <td>No</td>\n",
       "      <td>No</td>\n",
       "      <td>No</td>\n",
       "      <td>Month-to-month</td>\n",
       "      <td>Yes</td>\n",
       "      <td>Mailed check</td>\n",
       "      <td>53.85</td>\n",
       "      <td>108.15</td>\n",
       "      <td>Yes</td>\n",
       "    </tr>\n",
       "    <tr>\n",
       "      <th>3</th>\n",
       "      <td>7795-CFOCW</td>\n",
       "      <td>Male</td>\n",
       "      <td>0</td>\n",
       "      <td>No</td>\n",
       "      <td>No</td>\n",
       "      <td>45</td>\n",
       "      <td>No</td>\n",
       "      <td>No phone service</td>\n",
       "      <td>DSL</td>\n",
       "      <td>Yes</td>\n",
       "      <td>...</td>\n",
       "      <td>Yes</td>\n",
       "      <td>Yes</td>\n",
       "      <td>No</td>\n",
       "      <td>No</td>\n",
       "      <td>One year</td>\n",
       "      <td>No</td>\n",
       "      <td>Bank transfer (automatic)</td>\n",
       "      <td>42.30</td>\n",
       "      <td>1840.75</td>\n",
       "      <td>No</td>\n",
       "    </tr>\n",
       "    <tr>\n",
       "      <th>4</th>\n",
       "      <td>9237-HQITU</td>\n",
       "      <td>Female</td>\n",
       "      <td>0</td>\n",
       "      <td>No</td>\n",
       "      <td>No</td>\n",
       "      <td>2</td>\n",
       "      <td>Yes</td>\n",
       "      <td>No</td>\n",
       "      <td>Fiber optic</td>\n",
       "      <td>No</td>\n",
       "      <td>...</td>\n",
       "      <td>No</td>\n",
       "      <td>No</td>\n",
       "      <td>No</td>\n",
       "      <td>No</td>\n",
       "      <td>Month-to-month</td>\n",
       "      <td>Yes</td>\n",
       "      <td>Electronic check</td>\n",
       "      <td>70.70</td>\n",
       "      <td>151.65</td>\n",
       "      <td>Yes</td>\n",
       "    </tr>\n",
       "  </tbody>\n",
       "</table>\n",
       "<p>5 rows × 21 columns</p>\n",
       "</div>"
      ],
      "text/plain": [
       "   customerID  gender  SeniorCitizen Partner Dependents  tenure PhoneService  \\\n",
       "0  7590-VHVEG  Female              0     Yes         No       1           No   \n",
       "1  5575-GNVDE    Male              0      No         No      34          Yes   \n",
       "2  3668-QPYBK    Male              0      No         No       2          Yes   \n",
       "3  7795-CFOCW    Male              0      No         No      45           No   \n",
       "4  9237-HQITU  Female              0      No         No       2          Yes   \n",
       "\n",
       "      MultipleLines InternetService OnlineSecurity  ... DeviceProtection  \\\n",
       "0  No phone service             DSL             No  ...               No   \n",
       "1                No             DSL            Yes  ...              Yes   \n",
       "2                No             DSL            Yes  ...               No   \n",
       "3  No phone service             DSL            Yes  ...              Yes   \n",
       "4                No     Fiber optic             No  ...               No   \n",
       "\n",
       "  TechSupport StreamingTV StreamingMovies        Contract PaperlessBilling  \\\n",
       "0          No          No              No  Month-to-month              Yes   \n",
       "1          No          No              No        One year               No   \n",
       "2          No          No              No  Month-to-month              Yes   \n",
       "3         Yes          No              No        One year               No   \n",
       "4          No          No              No  Month-to-month              Yes   \n",
       "\n",
       "               PaymentMethod MonthlyCharges  TotalCharges Churn  \n",
       "0           Electronic check          29.85         29.85    No  \n",
       "1               Mailed check          56.95        1889.5    No  \n",
       "2               Mailed check          53.85        108.15   Yes  \n",
       "3  Bank transfer (automatic)          42.30       1840.75    No  \n",
       "4           Electronic check          70.70        151.65   Yes  \n",
       "\n",
       "[5 rows x 21 columns]"
      ]
     },
     "execution_count": 34,
     "metadata": {},
     "output_type": "execute_result"
    }
   ],
   "source": [
    "df.head()"
   ]
  },
  {
   "cell_type": "markdown",
   "metadata": {
    "_uuid": "12854602d79b4433a8fccc07a18157636f3bab85"
   },
   "source": [
    "### Re-arranging features values\n",
    "The following features are categorical where each one contains 3 values where 2 of them can be merged into one value. Foe example, in MultipleLines feature, it has values \"yes\", \"No\" and \"No phone Service's\". Therefore, the last two can be merged together as \"No\"."
   ]
  },
  {
   "cell_type": "code",
   "execution_count": 35,
   "metadata": {
    "_kg_hide-input": false,
    "_uuid": "bb5890045f34eb867da5c5ad1aa3d09eb0a0a988"
   },
   "outputs": [],
   "source": [
    "df['MultipleLines']=df['MultipleLines'].replace(['No phone service'], 'No')\n",
    "df['OnlineSecurity']=df['OnlineSecurity'].replace(['No internet service'], 'No')\n",
    "df['OnlineBackup']=df['OnlineBackup'].replace(['No internet service'], 'No')\n",
    "df['DeviceProtection']=df['DeviceProtection'].replace(['No internet service'], 'No')\n",
    "df['TechSupport']=df['TechSupport'].replace(['No internet service'], 'No')\n",
    "df['StreamingTV']=df['StreamingTV'].replace(['No internet service'], 'No')\n",
    "df['StreamingMovies']=df['StreamingMovies'].replace(['No internet service'], 'No')"
   ]
  },
  {
   "cell_type": "markdown",
   "metadata": {
    "_uuid": "87203732620a26013d36f90ecf2a9a15b5c75782"
   },
   "source": [
    "### Converting Fields to Binaries\n",
    "Payment Method, Contract and Internet Service are a features with categorical values that have no notion or sense of order. Therefore, we need to transform them into a more representative numerical form at which it can be easily understood by downstream code and pipeline."
   ]
  },
  {
   "cell_type": "code",
   "execution_count": 36,
   "metadata": {
    "_kg_hide-input": false,
    "_uuid": "7c30b240831095a2785f6e3bdebc3024f9c4a67c"
   },
   "outputs": [],
   "source": [
    "df['PaymentMethod_echeck'] = np.where(df['PaymentMethod'] == \"Electronic check\",1,0)\n",
    "df['PaymentMethod_Mailed'] = np.where(df['PaymentMethod'] == \"Mailed check\",1,0)\n",
    "df['PaymentMethod_Transfer'] = np.where(df['PaymentMethod'] == \"Bank transfer (automatic)\",1,0)\n",
    "df['PaymentMethod_Crdt'] = np.where(df['PaymentMethod'] == \"Credit card (automatic)\",1,0)"
   ]
  },
  {
   "cell_type": "code",
   "execution_count": 37,
   "metadata": {
    "_kg_hide-input": false,
    "_uuid": "d780710144bfff2986acefd44766918a8fbfd8c0"
   },
   "outputs": [],
   "source": [
    "df['MonthlyContract'] = np.where(df['Contract'] == \"Month-to-month\",1,0)\n",
    "df['OneYearContract'] = np.where(df['Contract'] == \"One year\",1,0)\n",
    "df['TwoYearContract'] = np.where(df['Contract'] == \"Two year\",1,0)"
   ]
  },
  {
   "cell_type": "code",
   "execution_count": 38,
   "metadata": {
    "_kg_hide-input": false,
    "_uuid": "85f1f5e10127dd6b237c89b3f569f2a6eaaeca32"
   },
   "outputs": [],
   "source": [
    "df['InternetService_No'] = np.where(df['InternetService'] == \"No\",0,0)\n",
    "df['InternetService_Fibre'] = np.where(df['InternetService'] == \"Fiber optic\",1,0)\n",
    "df['InternetService_DSL'] = np.where(df['InternetService'] == \"DSL\",1,0)"
   ]
  },
  {
   "cell_type": "markdown",
   "metadata": {
    "_uuid": "795ff717793031802f895e7e2a2fae541007fe30"
   },
   "source": [
    "Converting the other categorical variables to binaries. This is needed to make sure that they will be easily understoor and transformed by the different model algorithems"
   ]
  },
  {
   "cell_type": "code",
   "execution_count": 39,
   "metadata": {
    "_kg_hide-input": false,
    "_uuid": "da7e2fc928560e7ef3a05db13a4c4f4b3a5ccf2e"
   },
   "outputs": [],
   "source": [
    "lb_make = LabelEncoder()\n",
    "df['Churn'] = lb_make.fit_transform(df[\"Churn\"])\n",
    "df['MultipleLines'] = lb_make.fit_transform(df[\"MultipleLines\"])\n",
    "df['OnlineSecurity'] = lb_make.fit_transform(df[\"OnlineSecurity\"])\n",
    "df['gender'] = lb_make.fit_transform(df[\"gender\"])\n",
    "df['SeniorCitizen'] = lb_make.fit_transform(df[\"SeniorCitizen\"])\n",
    "df['Partner'] = lb_make.fit_transform(df[\"Partner\"])\n",
    "df['Dependents'] = lb_make.fit_transform(df[\"Dependents\"])\n",
    "df['PhoneService'] = lb_make.fit_transform(df[\"PhoneService\"])\n",
    "df['OnlineBackup'] = lb_make.fit_transform(df[\"OnlineBackup\"])\n",
    "df['DeviceProtection'] = lb_make.fit_transform(df[\"DeviceProtection\"])\n",
    "df['TechSupport'] = lb_make.fit_transform(df[\"TechSupport\"])\n",
    "df['StreamingTV'] = lb_make.fit_transform(df[\"StreamingTV\"])\n",
    "df['StreamingMovies'] = lb_make.fit_transform(df[\"StreamingMovies\"])\n",
    "df['PaperlessBilling'] = lb_make.fit_transform(df[\"PaperlessBilling\"])"
   ]
  },
  {
   "cell_type": "markdown",
   "metadata": {
    "_uuid": "7043ece12635704baee1fb3ad660e4515dd9f359"
   },
   "source": [
    "Dropping old features, InternetService, Contract and PaymentMethods"
   ]
  },
  {
   "cell_type": "code",
   "execution_count": 40,
   "metadata": {
    "_kg_hide-input": false,
    "_uuid": "b5b1392417d1ab6a5fee6e7240c999f446f0a29b"
   },
   "outputs": [],
   "source": [
    "dataset0=df.drop('InternetService', axis=1)\n",
    "dataset0 = dataset0.drop('Contract',axis=1)\n",
    "dataset0 = dataset0.drop('PaymentMethod',axis=1)\n",
    "dataset0 = dataset0.drop('customerID',axis=1)"
   ]
  },
  {
   "cell_type": "markdown",
   "metadata": {
    "_uuid": "ae4455fc82d2fd51d8d7dfc2df927f6eab25ecf8"
   },
   "source": [
    "Converting total charges to float, and replacing NA's with zero's"
   ]
  },
  {
   "cell_type": "code",
   "execution_count": 41,
   "metadata": {
    "_kg_hide-input": false,
    "_uuid": "d17f3b7935a2cc816789db19f40d9d5b3e12d233"
   },
   "outputs": [],
   "source": [
    "dataset0['TotalCharges'] = pd.to_numeric(df['TotalCharges'], errors='coerce')\n",
    "dataset0['TotalCharges'].fillna(0, inplace=True)"
   ]
  },
  {
   "cell_type": "code",
   "execution_count": 42,
   "metadata": {
    "_kg_hide-input": false,
    "_uuid": "c5785ffc6ce9e84d033cf36e1a166b36aa831bbf"
   },
   "outputs": [
    {
     "data": {
      "text/plain": [
       "Index(['gender', 'SeniorCitizen', 'Partner', 'Dependents', 'tenure',\n",
       "       'PhoneService', 'MultipleLines', 'OnlineSecurity', 'OnlineBackup',\n",
       "       'DeviceProtection', 'TechSupport', 'StreamingTV', 'StreamingMovies',\n",
       "       'PaperlessBilling', 'MonthlyCharges', 'TotalCharges', 'Churn',\n",
       "       'PaymentMethod_echeck', 'PaymentMethod_Mailed',\n",
       "       'PaymentMethod_Transfer', 'PaymentMethod_Crdt', 'MonthlyContract',\n",
       "       'OneYearContract', 'TwoYearContract', 'InternetService_No',\n",
       "       'InternetService_Fibre', 'InternetService_DSL'],\n",
       "      dtype='object')"
      ]
     },
     "execution_count": 42,
     "metadata": {},
     "output_type": "execute_result"
    }
   ],
   "source": [
    "dataset0.columns"
   ]
  },
  {
   "cell_type": "code",
   "execution_count": 43,
   "metadata": {
    "_kg_hide-input": false,
    "_uuid": "c76285b72f5f04e914ffd81e6e33b86bf94f43aa"
   },
   "outputs": [
    {
     "data": {
      "text/plain": [
       "(7043, 27)"
      ]
     },
     "execution_count": 43,
     "metadata": {},
     "output_type": "execute_result"
    }
   ],
   "source": [
    "dataset0.shape"
   ]
  },
  {
   "cell_type": "code",
   "execution_count": 44,
   "metadata": {
    "_kg_hide-input": false,
    "_uuid": "ea26208b9e57a451bbe309a719654553c667ec90"
   },
   "outputs": [
    {
     "name": "stdout",
     "output_type": "stream",
     "text": [
      "<class 'pandas.core.frame.DataFrame'>\n",
      "RangeIndex: 7043 entries, 0 to 7042\n",
      "Data columns (total 27 columns):\n",
      "gender                    7043 non-null int32\n",
      "SeniorCitizen             7043 non-null int64\n",
      "Partner                   7043 non-null int32\n",
      "Dependents                7043 non-null int32\n",
      "tenure                    7043 non-null int64\n",
      "PhoneService              7043 non-null int32\n",
      "MultipleLines             7043 non-null int32\n",
      "OnlineSecurity            7043 non-null int32\n",
      "OnlineBackup              7043 non-null int32\n",
      "DeviceProtection          7043 non-null int32\n",
      "TechSupport               7043 non-null int32\n",
      "StreamingTV               7043 non-null int32\n",
      "StreamingMovies           7043 non-null int32\n",
      "PaperlessBilling          7043 non-null int32\n",
      "MonthlyCharges            7043 non-null float64\n",
      "TotalCharges              7043 non-null float64\n",
      "Churn                     7043 non-null int32\n",
      "PaymentMethod_echeck      7043 non-null int32\n",
      "PaymentMethod_Mailed      7043 non-null int32\n",
      "PaymentMethod_Transfer    7043 non-null int32\n",
      "PaymentMethod_Crdt        7043 non-null int32\n",
      "MonthlyContract           7043 non-null int32\n",
      "OneYearContract           7043 non-null int32\n",
      "TwoYearContract           7043 non-null int32\n",
      "InternetService_No        7043 non-null int32\n",
      "InternetService_Fibre     7043 non-null int32\n",
      "InternetService_DSL       7043 non-null int32\n",
      "dtypes: float64(2), int32(23), int64(2)\n",
      "memory usage: 852.9 KB\n"
     ]
    }
   ],
   "source": [
    "dataset0.info()"
   ]
  },
  {
   "cell_type": "markdown",
   "metadata": {
    "_uuid": "22b9c6009058835983dc3269348b56261b654f75"
   },
   "source": [
    "### Balancing Dataset\n",
    "Looking for the dataset balance in term of the Churner's, we can find that the data is not balanced, as the churnners around 25% while the rest dont. Therefore, will do a bootstrap through SMOTE function in Imblearn package."
   ]
  },
  {
   "cell_type": "code",
   "execution_count": 45,
   "metadata": {
    "_kg_hide-input": false,
    "_uuid": "ca64e1380095c15f05be395ac1517fcc3b652427"
   },
   "outputs": [],
   "source": [
    "import imblearn\n",
    "from imblearn.over_sampling import SMOTE\n",
    "X = dataset0.loc[:, dataset0.columns != 'Churn']\n",
    "y = dataset0.loc[:, dataset0.columns == 'Churn']\n",
    "y=pd.DataFrame(y)\n",
    "os = SMOTE(random_state=0)\n",
    "columns = X.columns\n",
    "os_data_X,os_data_y=os.fit_sample(X, y.values.ravel())\n",
    "os_data_X = pd.DataFrame(data=os_data_X,columns=columns )\n",
    "os_data_y= pd.DataFrame(data=os_data_y,columns=['Churn'])"
   ]
  },
  {
   "cell_type": "code",
   "execution_count": 46,
   "metadata": {
    "_kg_hide-input": false,
    "_uuid": "0e0afed25c71703b95988ca7c0b3c79c6b78c556"
   },
   "outputs": [
    {
     "name": "stdout",
     "output_type": "stream",
     "text": [
      "length of oversampled data is  10348\n",
      "Number of No Churn in oversampled data 5174\n",
      "Number of Churn 5174\n",
      "Proportion of no subscription data in oversampled data is  0.5\n",
      "Proportion of subscription data in oversampled data is  0.5\n"
     ]
    }
   ],
   "source": [
    "print(\"length of oversampled data is \",len(os_data_X))\n",
    "print(\"Number of No Churn in oversampled data\",len(os_data_y[os_data_y['Churn']==0]))\n",
    "print(\"Number of Churn\",len(os_data_y[os_data_y['Churn']==1]))\n",
    "print(\"Proportion of no subscription data in oversampled data is \",len(os_data_y[os_data_y['Churn']==0])/len(os_data_X))\n",
    "print(\"Proportion of subscription data in oversampled data is \",len(os_data_y[os_data_y['Churn']==1])/len(os_data_X))"
   ]
  },
  {
   "cell_type": "code",
   "execution_count": 47,
   "metadata": {
    "_kg_hide-input": false,
    "_uuid": "37fb1670f05e3f1c148eef1ef8e6e313e1ba9119"
   },
   "outputs": [],
   "source": [
    "os_data_Xy = pd.concat([os_data_X.reset_index(drop=True), os_data_y.reset_index(drop=True)], axis=1)"
   ]
  },
  {
   "cell_type": "markdown",
   "metadata": {
    "_uuid": "809218cc260c6c89136d44fa2897f2e062874064"
   },
   "source": [
    "### Features Construction\n",
    "Creating new feature based on a clustering between certain features might add a value toward the final model accuracy, where the target is to find a kind of grouping that split the records according to their churn status. Hence, we will use the K-Mode which is targeting categorical kind of features."
   ]
  },
  {
   "cell_type": "code",
   "execution_count": 48,
   "metadata": {
    "_kg_hide-input": false,
    "_uuid": "51fdfff472cee8175268c26ac9fa81cf04abb8e8"
   },
   "outputs": [
    {
     "data": {
      "text/plain": [
       "Index(['gender', 'SeniorCitizen', 'Partner', 'Dependents', 'tenure',\n",
       "       'PhoneService', 'MultipleLines', 'OnlineSecurity', 'OnlineBackup',\n",
       "       'DeviceProtection', 'TechSupport', 'StreamingTV', 'StreamingMovies',\n",
       "       'PaperlessBilling', 'MonthlyCharges', 'TotalCharges',\n",
       "       'PaymentMethod_echeck', 'PaymentMethod_Mailed',\n",
       "       'PaymentMethod_Transfer', 'PaymentMethod_Crdt', 'MonthlyContract',\n",
       "       'OneYearContract', 'TwoYearContract', 'InternetService_No',\n",
       "       'InternetService_Fibre', 'InternetService_DSL', 'Churn'],\n",
       "      dtype='object')"
      ]
     },
     "execution_count": 48,
     "metadata": {},
     "output_type": "execute_result"
    }
   ],
   "source": [
    "os_data_Xy.columns"
   ]
  },
  {
   "cell_type": "code",
   "execution_count": 49,
   "metadata": {
    "_kg_hide-input": false,
    "_uuid": "5364c9f5c39694923fdaf9e045a971c0f2aa0461"
   },
   "outputs": [
    {
     "data": {
      "text/plain": [
       "(10348, 27)"
      ]
     },
     "execution_count": 49,
     "metadata": {},
     "output_type": "execute_result"
    }
   ],
   "source": [
    "os_data_Xy.shape"
   ]
  },
  {
   "cell_type": "code",
   "execution_count": 50,
   "metadata": {
    "_kg_hide-input": false,
    "_uuid": "644f368b0d52af5462b820974c8c4a0c489bf329"
   },
   "outputs": [],
   "source": [
    "colToCluster = ('InternetService_Fibre','MonthlyContract','OneYearContract', 'TwoYearContract', 'Churn')"
   ]
  },
  {
   "cell_type": "code",
   "execution_count": 51,
   "metadata": {
    "_kg_hide-input": false,
    "_uuid": "1275e52b00247ad475b5b864fb02b92749ee5247"
   },
   "outputs": [],
   "source": [
    "subset4Cluster = os_data_Xy[list(colToCluster)]"
   ]
  },
  {
   "cell_type": "code",
   "execution_count": 52,
   "metadata": {
    "_kg_hide-input": false,
    "_uuid": "568fbd0f7b992e35484204eacded12cf2f08ade4"
   },
   "outputs": [
    {
     "name": "stderr",
     "output_type": "stream",
     "text": [
      "C:\\Users\\sam\\Anaconda3\\lib\\site-packages\\sklearn\\externals\\joblib\\__init__.py:15: DeprecationWarning: sklearn.externals.joblib is deprecated in 0.21 and will be removed in 0.23. Please import this functionality directly from joblib, which can be installed with: pip install joblib. If this warning is raised when loading pickled models, you may need to re-serialize those models with scikit-learn 0.21+.\n",
      "  warnings.warn(msg, category=DeprecationWarning)\n"
     ]
    }
   ],
   "source": [
    "from scipy import sparse\n",
    "from sklearn.base import BaseEstimator, ClusterMixin\n",
    "from sklearn.externals.joblib import Parallel, delayed\n",
    "from sklearn.utils import check_random_state\n",
    "from sklearn.utils.validation import check_array"
   ]
  },
  {
   "cell_type": "code",
   "execution_count": 53,
   "metadata": {},
   "outputs": [
    {
     "name": "stdout",
     "output_type": "stream",
     "text": [
      "Requirement already satisfied: kmodes in c:\\users\\sam\\anaconda3\\lib\\site-packages (0.10.1)\n",
      "Requirement already satisfied: scipy>=0.13.3 in c:\\users\\sam\\anaconda3\\lib\\site-packages (from kmodes) (1.2.1)\n",
      "Requirement already satisfied: scikit-learn>=0.19.0 in c:\\users\\sam\\anaconda3\\lib\\site-packages (from kmodes) (0.21.3)\n",
      "Requirement already satisfied: numpy>=1.10.4 in c:\\users\\sam\\anaconda3\\lib\\site-packages (from kmodes) (1.16.2)\n",
      "Requirement already satisfied: joblib>=0.11 in c:\\users\\sam\\anaconda3\\lib\\site-packages (from kmodes) (0.13.2)\n",
      "Note: you may need to restart the kernel to use updated packages.\n"
     ]
    }
   ],
   "source": [
    "pip install kmodes"
   ]
  },
  {
   "cell_type": "code",
   "execution_count": 54,
   "metadata": {
    "_kg_hide-input": false,
    "_uuid": "0db0b0471da80670f9fd506929f92df62747d4d4"
   },
   "outputs": [],
   "source": [
    "from kmodes import kmodes\n",
    "from kmodes.kmodes import KModes\n",
    "from kmodes.kprototypes import KPrototypes"
   ]
  },
  {
   "cell_type": "code",
   "execution_count": 55,
   "metadata": {
    "_kg_hide-input": false,
    "_uuid": "7822c28eeef0fc85a13092bcd0b476b7074088d4"
   },
   "outputs": [],
   "source": [
    "km = kmodes.KModes(n_clusters=6, init='Cao', n_init=5, verbose=0)"
   ]
  },
  {
   "cell_type": "code",
   "execution_count": 56,
   "metadata": {
    "_kg_hide-input": false,
    "_uuid": "04c8bdb83f46536eead0ece1bf5bace01cd72439"
   },
   "outputs": [],
   "source": [
    "clusters = km.fit_predict(subset4Cluster)"
   ]
  },
  {
   "cell_type": "code",
   "execution_count": 57,
   "metadata": {
    "_kg_hide-input": false,
    "_uuid": "77a37374e16645fee31d26e3bc274056be384579"
   },
   "outputs": [],
   "source": [
    "subset4Cluster=pd.DataFrame(subset4Cluster)"
   ]
  },
  {
   "cell_type": "code",
   "execution_count": 58,
   "metadata": {
    "_kg_hide-input": false,
    "_uuid": "74731ade2dc93d154f384d1deedbcd846dad6a58"
   },
   "outputs": [],
   "source": [
    "subset4Cluster['clusters'] = clusters"
   ]
  },
  {
   "cell_type": "code",
   "execution_count": 59,
   "metadata": {
    "_kg_hide-input": false,
    "_uuid": "af402950f001eb1b9422127f5631d460940399ae"
   },
   "outputs": [],
   "source": [
    "ct = pd.crosstab(subset4Cluster['clusters'], subset4Cluster['Churn'])"
   ]
  },
  {
   "cell_type": "code",
   "execution_count": 60,
   "metadata": {
    "_kg_hide-input": false,
    "_uuid": "0038fa5522bb73979658f013ef0c496674227a59"
   },
   "outputs": [
    {
     "name": "stdout",
     "output_type": "stream",
     "text": [
      "Churn        0     1\n",
      "clusters            \n",
      "0          966  4977\n",
      "1         1307    89\n",
      "2         1647    18\n",
      "3         1254     0\n",
      "4            0    76\n",
      "5            0    14\n"
     ]
    }
   ],
   "source": [
    "print(ct)"
   ]
  },
  {
   "cell_type": "markdown",
   "metadata": {
    "_uuid": "9a5ee09de782226245d534c5fa91cbcbc25a4f39"
   },
   "source": [
    "From the above table, we can find that groups 3,4 and 5 sharply split the data in referrence to the Churn. "
   ]
  },
  {
   "cell_type": "markdown",
   "metadata": {
    "_uuid": "15c6474c82568ea0652b783622ecded6c280739d"
   },
   "source": [
    "### Features Selection\n",
    "The dataset includes both categorical and nuemerical variables, the following code from sklearn package will classify the features according to their importance, \"True\" will be considered as an important feature, while the opposite is the \"False\"."
   ]
  },
  {
   "cell_type": "code",
   "execution_count": 61,
   "metadata": {
    "_kg_hide-input": false,
    "_uuid": "ebf508bad01481c984cf8eaefd2eee85dccc3643"
   },
   "outputs": [],
   "source": [
    "os_data_Xy['clusters']=clusters"
   ]
  },
  {
   "cell_type": "code",
   "execution_count": 62,
   "metadata": {
    "_kg_hide-input": false,
    "_uuid": "af915c4d913816c817b1e0d164801e4e73d6dfb5"
   },
   "outputs": [],
   "source": [
    "def feature_sel(dataset,model,nb_feat):\n",
    "    model = LogisticRegression()\n",
    "    rfe = RFE(model, nb_feat)\n",
    "    #os_data_y= pd.DataFrame(data=os_data_y,columns=['Churn'])\n",
    "    os_data_y=dataset.loc[:, dataset.columns == 'Churn']\n",
    "    os_data_X=dataset.loc[:, dataset.columns != 'Churn']\n",
    "    rfe = rfe.fit(os_data_X, os_data_y.values.ravel())\n",
    "    final_vars=os_data_X.columns.values.tolist()\n",
    "    j=0\n",
    "    final_list=[]\n",
    "    for i in final_vars:\n",
    "        if rfe.support_[j] == True :\n",
    "            #print(list_2[j])\n",
    "            final_list.append(i)    \n",
    "        j = j + 1\n",
    "    return final_list"
   ]
  },
  {
   "cell_type": "markdown",
   "metadata": {
    "_uuid": "92a75f5962195d78e93cfb9c9c40f37ef036401d"
   },
   "source": [
    "Build a function for Classifications model"
   ]
  },
  {
   "cell_type": "code",
   "execution_count": 63,
   "metadata": {
    "_kg_hide-input": false,
    "_uuid": "bbf96c0181dc5b329baa6f4f282175407300461f"
   },
   "outputs": [],
   "source": [
    "def run_model(X_f,y_f,model, alg_name, plot_index):\n",
    "    #X_f = dataset_f.loc[:, dataset_f.columns != 'Churn']\n",
    "    #y_f = dataset_f.loc[:, dataset_f.columns == 'Churn']\n",
    "    X_train_f, X_test_f, y_train_f,y_test_f = train_test_split(X_f,y_f,test_size=0.2,random_state=3457)\n",
    "    model.fit(X_train_f, y_train_f.values.ravel())\n",
    "    \n",
    "    if alg_name == \"Logistic Regression\":\n",
    "        THRESHOLD = 0.4\n",
    "        y_pred_f = np.where(model.predict_proba(X_test_f)[:,1] > THRESHOLD, 1, 0)\n",
    "    else :\n",
    "        y_pred_f = model.predict(X_test_f)\n",
    "    #print('Score of ' + alg_name + ' on test set: {:.4f}'.format(model.score(X_test_f, y_test_f)))\n",
    "    score_f= model.score(X_test_f, y_test_f)\n",
    "    cf_mx1_f = confusion_matrix(y_test_f, y_pred_f)\n",
    "    #print(cf_mx1_f)\n",
    "    True_Pred_f = cf_mx1_f[0][0] + cf_mx1_f[1][1]\n",
    "    Total_Pred_f = cf_mx1_f[0][0] + cf_mx1_f[1][1] + cf_mx1_f[0][1] + cf_mx1_f[1][0]\n",
    "    acc= True_Pred_f/Total_Pred_f\n",
    "    #print('Accuracy of ' + alg_name + ' on test set: {:.4f}'.format(acc))\n",
    "    return score_f,acc"
   ]
  },
  {
   "cell_type": "markdown",
   "metadata": {
    "_uuid": "3ca76b92e603a55c834d4eb88beedac5bd98b457"
   },
   "source": [
    "**Backup Data Set**"
   ]
  },
  {
   "cell_type": "code",
   "execution_count": 64,
   "metadata": {
    "_kg_hide-input": true,
    "_uuid": "959e1779293c3e40e9617716c8b4b67cb16a10c8"
   },
   "outputs": [],
   "source": [
    "#from copy import deepcopy\n",
    "#os_data_X1 = deepcopy(os_data_X)\n",
    "#os_data_y1 = deepcopy(os_data_y)"
   ]
  },
  {
   "cell_type": "code",
   "execution_count": 65,
   "metadata": {
    "_kg_hide-input": false,
    "_uuid": "a53ee0a698309bfa81565c258e568ba091147813"
   },
   "outputs": [],
   "source": [
    "from sklearn.feature_selection import RFE"
   ]
  },
  {
   "cell_type": "markdown",
   "metadata": {
    "_uuid": "9030147ce9effd87c15249f1115fab93bbadd7c6"
   },
   "source": [
    "# Logistic Regression"
   ]
  },
  {
   "cell_type": "code",
   "execution_count": 66,
   "metadata": {
    "_kg_hide-input": false,
    "_uuid": "e7e0bf604e473326e3414fbb3a9d942595ca3786"
   },
   "outputs": [],
   "source": [
    "from sklearn.linear_model import LogisticRegression\n",
    "import warnings\n",
    "warnings.filterwarnings(\"ignore\", category=FutureWarning)\n"
   ]
  },
  {
   "cell_type": "markdown",
   "metadata": {
    "_uuid": "a1e020deb96a57b84aba2346382c8ed880d59e63"
   },
   "source": [
    "### Select number of features based on accuracy"
   ]
  },
  {
   "cell_type": "code",
   "execution_count": 67,
   "metadata": {
    "_kg_hide-input": false,
    "_uuid": "6de296db85e41d0eba00ce32eef2a7689e1f1945"
   },
   "outputs": [
    {
     "name": "stdout",
     "output_type": "stream",
     "text": [
      "Number of feature:4\n",
      "Score of Logistic Regression on test set: 0.8778\n",
      "Accuracy of Logistic Regression on test set: 0.8802\n"
     ]
    }
   ],
   "source": [
    "alg_name = \"Logistic Regression\"\n",
    "model = LogisticRegression(random_state=3457)\n",
    "score_l=[]\n",
    "acc_l=[]\n",
    "for i in range(3,10):\n",
    "    final_list=feature_sel(os_data_Xy,model,i)\n",
    "    os_data_y=os_data_Xy.loc[:, os_data_Xy.columns == 'Churn']\n",
    "    os_data_X=os_data_Xy[final_list]\n",
    "    #final_list\n",
    "    score_f,acc_f = run_model(os_data_X,os_data_y,model, \"Logistic Regression\", 2)\n",
    "    score_l.append(score_f)\n",
    "    acc_l.append(acc_f)\n",
    "    ind_score= score_l.index(max(score_l))\n",
    "    \n",
    "print('Number of feature:' + str(ind_score+3))\n",
    "print('Score of ' + alg_name + ' on test set: {:.4f}'.format(score_l[ind_score]))\n",
    "print('Accuracy of ' + alg_name + ' on test set: {:.4f}'.format(acc_l[ind_score]))\n",
    "final_list=feature_sel(os_data_Xy,model,ind_score+3)\n",
    "final_list\n",
    "os_data_lg_X=os_data_X[final_list]"
   ]
  },
  {
   "cell_type": "markdown",
   "metadata": {
    "_uuid": "c74879d6e9b986fd382d82434e68ff8eb272b6df"
   },
   "source": [
    "# Logistic Regression with a L1 penalty"
   ]
  },
  {
   "cell_type": "markdown",
   "metadata": {
    "_uuid": "a0ccdb47239b30750a5e85f659a6f9065ac37ef9"
   },
   "source": [
    "### Select number of features based on accuracy"
   ]
  },
  {
   "cell_type": "code",
   "execution_count": 68,
   "metadata": {
    "_kg_hide-input": false,
    "_uuid": "9dbee3b00ca12201446b94896d89167916b5fd3b"
   },
   "outputs": [
    {
     "name": "stdout",
     "output_type": "stream",
     "text": [
      "Number of feature:9\n",
      "Score of Logistic Regression on test set: 0.8874\n",
      "Accuracy of Logistic Regression on test set: 0.8899\n"
     ]
    }
   ],
   "source": [
    "model = LogisticRegression(random_state=3457,C=0.01, penalty='l1', tol=0.01, solver='liblinear')\n",
    "alg_name = \"Logistic Regression\"\n",
    "#model_lg = LogisticRegression(random_state=3457)\n",
    "score_l=[]\n",
    "acc_l=[]\n",
    "for i in range(3,10):\n",
    "    final_list=feature_sel(os_data_Xy,model,i)\n",
    "    os_data_y=os_data_Xy.loc[:, os_data_Xy.columns == 'Churn']\n",
    "    os_data_X=os_data_Xy[final_list]\n",
    "    #final_list\n",
    "    score_f,acc_f = run_model(os_data_X,os_data_y,model, \"Logistic Regression\", 2)\n",
    "    score_l.append(score_f)\n",
    "    acc_l.append(acc_f)\n",
    "    ind_score= score_l.index(max(score_l))\n",
    "    \n",
    "print('Number of feature:' + str(ind_score+3))\n",
    "print('Score of ' + alg_name + ' on test set: {:.4f}'.format(score_l[ind_score]))\n",
    "print('Accuracy of ' + alg_name + ' on test set: {:.4f}'.format(acc_l[ind_score]))\n",
    "final_list=feature_sel(os_data_Xy,model,ind_score+3)\n",
    "final_list\n",
    "os_data_lgL1_X=os_data_X[final_list]"
   ]
  },
  {
   "cell_type": "markdown",
   "metadata": {
    "_uuid": "a276d9751d4075c42aa314ee6f6688f951178c01"
   },
   "source": [
    "# Random Forest"
   ]
  },
  {
   "cell_type": "markdown",
   "metadata": {
    "_uuid": "e06aff66e7804c658fd0fcc58f383d7000cad2fd"
   },
   "source": [
    "### Select number of features based on accuracy"
   ]
  },
  {
   "cell_type": "code",
   "execution_count": 69,
   "metadata": {
    "_kg_hide-input": false,
    "_uuid": "92f9110c5cc0e96eb5e7216cc73b7dea6f924fbe"
   },
   "outputs": [
    {
     "name": "stderr",
     "output_type": "stream",
     "text": [
      "C:\\Users\\sam\\Anaconda3\\lib\\site-packages\\ipykernel_launcher.py:2: DeprecationWarning: numpy.core.umath_tests is an internal NumPy module and should not be imported. It will be removed in a future NumPy release.\n",
      "  \n"
     ]
    }
   ],
   "source": [
    "from sklearn.ensemble import RandomForestClassifier\n",
    "from numpy.core.umath_tests import inner1d"
   ]
  },
  {
   "cell_type": "code",
   "execution_count": 70,
   "metadata": {
    "_kg_hide-input": false,
    "_uuid": "4189c4eacbe2e8c7a7068c64a22dbf1cfde98dc1"
   },
   "outputs": [
    {
     "name": "stdout",
     "output_type": "stream",
     "text": [
      "Number of feature:9\n",
      "Score of Random Forest on test set: 0.9116\n",
      "Accuracy of Random Forest on test set: 0.9116\n"
     ]
    }
   ],
   "source": [
    "alg_name = \"Random Forest\"\n",
    "model = RandomForestClassifier(random_state=3457)\n",
    "score_l=[]\n",
    "acc_l=[]\n",
    "for i in range(3,10):\n",
    "    final_list=feature_sel(os_data_Xy,model,i)\n",
    "    os_data_y=os_data_Xy.loc[:, os_data_Xy.columns == 'Churn']\n",
    "    os_data_X=os_data_Xy[final_list]\n",
    "    #final_list\n",
    "    score_f,acc_f = run_model(os_data_X,os_data_y,model, alg_name, 2)\n",
    "    score_l.append(score_f)\n",
    "    acc_l.append(acc_f)\n",
    "    ind_score= score_l.index(max(score_l))\n",
    "    \n",
    "print('Number of feature:' + str(ind_score+3))\n",
    "print('Score of ' + alg_name + ' on test set: {:.4f}'.format(score_l[ind_score]))\n",
    "print('Accuracy of ' + alg_name + ' on test set: {:.4f}'.format(acc_l[ind_score]))\n",
    "final_list=feature_sel(os_data_Xy,model,ind_score+3)\n",
    "final_list\n",
    "os_data_rf_X=os_data_X[final_list]"
   ]
  },
  {
   "cell_type": "markdown",
   "metadata": {
    "_uuid": "b66582a4e53d7101d544de61a53ca7693b7f861c"
   },
   "source": [
    "### Print Features importance"
   ]
  },
  {
   "cell_type": "code",
   "execution_count": 71,
   "metadata": {
    "_kg_hide-input": false,
    "_uuid": "880124bab2f54bb2e28ea1cc83a9aea61feac32d"
   },
   "outputs": [
    {
     "name": "stdout",
     "output_type": "stream",
     "text": [
      "[0.02487493 0.01760484 0.03186579 0.06933337 0.17973428 0.01241699\n",
      " 0.04608406 0.01595728 0.60212845]\n"
     ]
    }
   ],
   "source": [
    "final_list=feature_sel(os_data_Xy,model,9)\n",
    "os_data_y=os_data_Xy.loc[:, os_data_Xy.columns == 'Churn']\n",
    "os_data_X=os_data_Xy[final_list]\n",
    "#final_list\n",
    "score_f,acc_f = run_model(os_data_X,os_data_y,model, alg_name, 2)\n",
    "print(model.feature_importances_)"
   ]
  },
  {
   "cell_type": "markdown",
   "metadata": {
    "_uuid": "1a663b0ab7defa886ef941c51c4512f067452912"
   },
   "source": [
    "# Decision Tree"
   ]
  },
  {
   "cell_type": "markdown",
   "metadata": {
    "_uuid": "f3b89f17c182c00b0af8368da813ee438e3e822c"
   },
   "source": [
    "### Select number of features based on accuracy"
   ]
  },
  {
   "cell_type": "code",
   "execution_count": 72,
   "metadata": {
    "_kg_hide-input": false,
    "_uuid": "8a55d4926cabe37cc4d55c9c11ee9c0fc5eddb4b"
   },
   "outputs": [],
   "source": [
    "from sklearn import tree"
   ]
  },
  {
   "cell_type": "code",
   "execution_count": 73,
   "metadata": {
    "_uuid": "a05080f183f591434f34e6bc4484972dd8c425b3"
   },
   "outputs": [
    {
     "name": "stdout",
     "output_type": "stream",
     "text": [
      "Number of feature:3\n",
      "Score of Decision Tree on test set: 0.8952\n",
      "Accuracy of Decision Tree on test set: 0.8952\n"
     ]
    }
   ],
   "source": [
    "alg_name = \"Decision Tree\"\n",
    "model = tree.DecisionTreeClassifier(criterion='entropy', max_depth=3,random_state=3458)\n",
    "score_l=[]\n",
    "acc_l=[]\n",
    "for i in range(3,10):\n",
    "    final_list=feature_sel(os_data_Xy,model,i)\n",
    "    os_data_y=os_data_Xy.loc[:, os_data_Xy.columns == 'Churn']\n",
    "    os_data_X=os_data_Xy[final_list]\n",
    "    #final_list\n",
    "    score_f,acc_f = run_model(os_data_X,os_data_y,model, alg_name, 2)\n",
    "    score_l.append(score_f)\n",
    "    acc_l.append(acc_f)\n",
    "    ind_score= score_l.index(max(score_l))\n",
    "    \n",
    "print('Number of feature:' + str(ind_score+3))\n",
    "print('Score of ' + alg_name + ' on test set: {:.4f}'.format(score_l[ind_score]))\n",
    "print('Accuracy of ' + alg_name + ' on test set: {:.4f}'.format(acc_l[ind_score]))\n",
    "final_list=feature_sel(os_data_Xy,model,ind_score+3)\n",
    "final_list\n",
    "os_data_dt_X=os_data_X[final_list]"
   ]
  },
  {
   "cell_type": "markdown",
   "metadata": {
    "_uuid": "58455a8b07ae4ccd774d1f302d281d1d9feb0a5d"
   },
   "source": [
    "### Print Features importance"
   ]
  },
  {
   "cell_type": "code",
   "execution_count": 74,
   "metadata": {
    "_kg_hide-input": false,
    "_uuid": "dde252ddc0d7227045aab6828ee9e52ae3beb4ef"
   },
   "outputs": [
    {
     "name": "stdout",
     "output_type": "stream",
     "text": [
      "[0.02661293 0.05497896 0.9184081 ]\n"
     ]
    }
   ],
   "source": [
    "final_list=feature_sel(os_data_Xy,model,3)\n",
    "os_data_y=os_data_Xy.loc[:, os_data_Xy.columns == 'Churn']\n",
    "os_data_X=os_data_Xy[final_list]\n",
    "#final_list\n",
    "score_f,acc_f = run_model(os_data_X,os_data_y,model, alg_name, 2)\n",
    "print(model.feature_importances_)"
   ]
  },
  {
   "cell_type": "code",
   "execution_count": 75,
   "metadata": {
    "_kg_hide-input": false,
    "_uuid": "665557dcb5af4a412725097980cb5eafffd911e2"
   },
   "outputs": [],
   "source": [
    " X_train, X_test, y_train,y_test = train_test_split(os_data_dt_X,os_data_y,test_size=0.2,random_state=3457)"
   ]
  },
  {
   "cell_type": "code",
   "execution_count": 76,
   "metadata": {
    "_kg_hide-input": false,
    "_uuid": "15da8ce6c0a15ab702b55f0710c2e7aa4374846d"
   },
   "outputs": [
    {
     "name": "stdout",
     "output_type": "stream",
     "text": [
      "Score of  on test set: 0.8952\n",
      "[[ 816  195]\n",
      " [  22 1037]]\n",
      "Accuracy of on test set: 0.8952\n"
     ]
    }
   ],
   "source": [
    "from sklearn.ensemble import RandomForestClassifier\n",
    "model = RandomForestClassifier(n_estimators=5,random_state=3457,max_depth=4)\n",
    "model.fit(X_train, y_train.values.ravel())\n",
    "\n",
    "estimator = model.estimators_[4]\n",
    "y_pred = model.predict(X_test)\n",
    "print('Score of  on test set: {:.4f}'.format(model.score(X_test, y_test)))\n",
    "cf_mx1_f = confusion_matrix(y_test, y_pred)\n",
    "print(cf_mx1_f)\n",
    "True_Pred_f = cf_mx1_f[0][0] + cf_mx1_f[1][1]\n",
    "Total_Pred_f = cf_mx1_f[0][0] + cf_mx1_f[1][1] + cf_mx1_f[0][1] + cf_mx1_f[1][0]\n",
    "acc= True_Pred_f/Total_Pred_f\n",
    "print('Accuracy of on test set: {:.4f}'.format(acc))"
   ]
  },
  {
   "cell_type": "code",
   "execution_count": 77,
   "metadata": {
    "_kg_hide-input": false,
    "_uuid": "6563e3159a1d0ed68ff34ab2dcbbcf0cb0a80387"
   },
   "outputs": [],
   "source": [
    "from sklearn.tree import export_graphviz\n",
    "# Export as dot file\n",
    "export_graphviz(estimator, out_file='tree.dot', \n",
    "                feature_names = os_data_dt_X.columns,\n",
    "                class_names = ['Churn','No Churn'],\n",
    "                rounded = True, proportion = False, \n",
    "                precision = 2, filled = True)\n",
    "\n"
   ]
  },
  {
   "cell_type": "markdown",
   "metadata": {
    "_uuid": "f7326ebf920df07475627fd6156e1a114d71fe50"
   },
   "source": [
    "# xgboost"
   ]
  },
  {
   "cell_type": "markdown",
   "metadata": {
    "_uuid": "f8ac9695c627d47c2c4c378eb2f21b2d04a122da"
   },
   "source": [
    "### Optimie number of features"
   ]
  },
  {
   "cell_type": "code",
   "execution_count": 80,
   "metadata": {
    "_kg_hide-input": false,
    "_uuid": "362c33eef4bf86da96d32304d6d37a935214a390"
   },
   "outputs": [],
   "source": [
    "from xgboost import XGBClassifier\n",
    "\n",
    "#model_xg = XGBClassifier(random_state=3457)\n",
    "#run_model(os_data_X,os_data_y,model_xg, \"XGBoost\", 4)"
   ]
  },
  {
   "cell_type": "code",
   "execution_count": 81,
   "metadata": {
    "_kg_hide-input": false,
    "_uuid": "c10610866d019e61a3ba052b0d0b7c098d62cc8e"
   },
   "outputs": [
    {
     "name": "stdout",
     "output_type": "stream",
     "text": [
      "Number of feature:9\n",
      "Score of XGBoost on test set: 0.9130\n",
      "Accuracy of XGBoost on test set: 0.9130\n"
     ]
    }
   ],
   "source": [
    "alg_name = \"XGBoost\"\n",
    "model = XGBClassifier(random_state=3457)\n",
    "score_l=[]\n",
    "acc_l=[]\n",
    "for i in range(3,10):\n",
    "    final_list=feature_sel(os_data_Xy,model,i)\n",
    "    os_data_y=os_data_Xy.loc[:, os_data_Xy.columns == 'Churn']\n",
    "    os_data_X=os_data_Xy[final_list]\n",
    "    #final_list\n",
    "    score_f,acc_f = run_model(os_data_X,os_data_y,model, alg_name, 2)\n",
    "    score_l.append(score_f)\n",
    "    acc_l.append(acc_f)\n",
    "    ind_score= score_l.index(max(score_l))\n",
    "    \n",
    "print('Number of feature:' + str(ind_score+3))\n",
    "print('Score of ' + alg_name + ' on test set: {:.4f}'.format(score_l[ind_score]))\n",
    "print('Accuracy of ' + alg_name + ' on test set: {:.4f}'.format(acc_l[ind_score]))\n",
    "final_list=feature_sel(os_data_Xy,model,ind_score+3)\n",
    "final_list\n",
    "os_data_xg_X=os_data_X[final_list]"
   ]
  },
  {
   "cell_type": "markdown",
   "metadata": {
    "_uuid": "222eb50bba2b5712ad43a73f2cc424dc682360aa"
   },
   "source": [
    "# SVC"
   ]
  },
  {
   "cell_type": "markdown",
   "metadata": {
    "_uuid": "a8ac20c0a9006792b9588e1ee27ecbacf3af6437"
   },
   "source": [
    "### Optimize number of features"
   ]
  },
  {
   "cell_type": "code",
   "execution_count": 82,
   "metadata": {
    "_kg_hide-input": false,
    "_uuid": "d5615a26bb53a09a6e3dfc834c73e53944ae8f67"
   },
   "outputs": [],
   "source": [
    "from sklearn.svm import SVC"
   ]
  },
  {
   "cell_type": "code",
   "execution_count": 83,
   "metadata": {
    "_kg_hide-input": false,
    "_uuid": "71a512984d15f85420c7ca326c6f19af41853481"
   },
   "outputs": [
    {
     "name": "stdout",
     "output_type": "stream",
     "text": [
      "Number of feature:3\n",
      "Score of SVC on test set: 0.8952\n",
      "Accuracy of SVC on test set: 0.8952\n"
     ]
    }
   ],
   "source": [
    "alg_name = \"SVC\"\n",
    "model = SVC(random_state=3458)\n",
    "score_l=[]\n",
    "acc_l=[]\n",
    "for i in range(3,10):\n",
    "    final_list=feature_sel(os_data_Xy,model,i)\n",
    "    os_data_y=os_data_Xy.loc[:, os_data_Xy.columns == 'Churn']\n",
    "    os_data_X=os_data_Xy[final_list]\n",
    "    #final_list\n",
    "    score_f,acc_f = run_model(os_data_X,os_data_y,model, alg_name, 2)\n",
    "    score_l.append(score_f)\n",
    "    acc_l.append(acc_f)\n",
    "    ind_score= score_l.index(max(score_l))\n",
    "    \n",
    "print('Number of feature:' + str(ind_score+3))\n",
    "print('Score of ' + alg_name + ' on test set: {:.4f}'.format(score_l[ind_score]))\n",
    "print('Accuracy of ' + alg_name + ' on test set: {:.4f}'.format(acc_l[ind_score]))\n",
    "final_list=feature_sel(os_data_Xy,model,ind_score+3)\n",
    "final_list\n",
    "os_data_svc_X=os_data_X[final_list]"
   ]
  },
  {
   "cell_type": "markdown",
   "metadata": {
    "_uuid": "efb3629db5b7a25808aa64c5fa7ae17fabf81803"
   },
   "source": [
    "# KNN"
   ]
  },
  {
   "cell_type": "markdown",
   "metadata": {
    "_uuid": "0882d84bf7996f671c52ca9b3cff2c638fcee225"
   },
   "source": [
    "### Optimize number of Features"
   ]
  },
  {
   "cell_type": "code",
   "execution_count": 84,
   "metadata": {
    "_kg_hide-input": false,
    "_uuid": "daff43b7efd37d5eba752490f220462c8d97e0b3"
   },
   "outputs": [],
   "source": [
    "from sklearn import neighbors"
   ]
  },
  {
   "cell_type": "code",
   "execution_count": 85,
   "metadata": {
    "_kg_hide-input": false,
    "_uuid": "3a7f646e1f50b814091a1c5b9101f3608af7782e"
   },
   "outputs": [
    {
     "name": "stdout",
     "output_type": "stream",
     "text": [
      "Number of feature:9\n",
      "Score of KNN on test set: 0.9077\n",
      "Accuracy of KNN on test set: 0.9077\n"
     ]
    }
   ],
   "source": [
    "alg_name = \"KNN\"\n",
    "model = neighbors.KNeighborsClassifier()\n",
    "score_l=[]\n",
    "acc_l=[]\n",
    "for i in range(3,10):\n",
    "    final_list=feature_sel(os_data_Xy,model,i)\n",
    "    os_data_y=os_data_Xy.loc[:, os_data_Xy.columns == 'Churn']\n",
    "    os_data_X=os_data_Xy[final_list]\n",
    "    #final_list\n",
    "    score_f,acc_f = run_model(os_data_X,os_data_y,model, alg_name, 2)\n",
    "    score_l.append(score_f)\n",
    "    acc_l.append(acc_f)\n",
    "    ind_score= score_l.index(max(score_l))\n",
    "    \n",
    "print('Number of feature:' + str(ind_score+3))\n",
    "print('Score of ' + alg_name + ' on test set: {:.4f}'.format(score_l[ind_score]))\n",
    "print('Accuracy of ' + alg_name + ' on test set: {:.4f}'.format(acc_l[ind_score]))\n",
    "final_list=feature_sel(os_data_Xy,model,ind_score+3)\n",
    "final_list\n",
    "os_data_knn_X=os_data_X[final_list]"
   ]
  },
  {
   "cell_type": "markdown",
   "metadata": {
    "_uuid": "15b1f809a217deae44310b6f54ebe6f446b32a18"
   },
   "source": [
    "# Cross Validation\n"
   ]
  },
  {
   "cell_type": "code",
   "execution_count": 86,
   "metadata": {
    "_kg_hide-input": false,
    "_uuid": "3ea49458c13ec060fdf5b4c31ed6c8416e6fc543"
   },
   "outputs": [],
   "source": [
    "from scipy import interp\n",
    "from sklearn.metrics import roc_curve,auc\n",
    "from sklearn.model_selection import cross_validate\n",
    "from sklearn.model_selection import KFold # import KFold\n",
    "#from sklearn.cross_validation import cross_val_score\n",
    "import matplotlib.patches as patches"
   ]
  },
  {
   "cell_type": "code",
   "execution_count": 87,
   "metadata": {
    "_kg_hide-input": false,
    "_uuid": "fca6fcad5ae7addaf293567dcbaa555bb004d62d"
   },
   "outputs": [],
   "source": [
    "os_data_y=np.array(os_data_y)\n",
    "c, r = os_data_y.shape\n",
    "os_data_y = os_data_y.reshape(c,)"
   ]
  },
  {
   "cell_type": "code",
   "execution_count": 88,
   "metadata": {
    "_kg_hide-input": false,
    "_uuid": "3a807a39dbcb03ea2d0f144960206513cef44cae"
   },
   "outputs": [],
   "source": [
    "from sklearn.model_selection import cross_val_predict"
   ]
  },
  {
   "cell_type": "markdown",
   "metadata": {
    "_uuid": "ccf09aa748bc401dd88ff5ea983d2d6618c1f3e5"
   },
   "source": [
    "#### 1- Cross Validation for Random Forest"
   ]
  },
  {
   "cell_type": "code",
   "execution_count": 89,
   "metadata": {
    "_kg_hide-input": false,
    "_uuid": "ef813c8d6e936832852d934b17429a6ccf1e47c6"
   },
   "outputs": [],
   "source": [
    "os_data_y=os_data_Xy.loc[:, os_data_Xy.columns == 'Churn']"
   ]
  },
  {
   "cell_type": "code",
   "execution_count": 90,
   "metadata": {
    "_kg_hide-input": false,
    "_uuid": "17e9dbd9b71b124ac84196e6a9dd09142518978c"
   },
   "outputs": [],
   "source": [
    "#from sklearn.cross_validation import cross_val_score, cross_val_predict\n",
    "from sklearn.model_selection  import cross_val_score, cross_val_predict"
   ]
  },
  {
   "cell_type": "code",
   "execution_count": 91,
   "metadata": {
    "_kg_hide-input": false,
    "_uuid": "fe5e7a2f32118920eb5352fcef9d5571540740a6"
   },
   "outputs": [],
   "source": [
    "os_data_y=np.array(os_data_y)\n",
    "c, r = os_data_y.shape\n",
    "os_data_y = os_data_y.reshape(c,)"
   ]
  },
  {
   "cell_type": "code",
   "execution_count": 92,
   "metadata": {
    "_kg_hide-input": false,
    "_uuid": "7d05f3f3f141fa84703cacb78b8eb4eb72a78920"
   },
   "outputs": [],
   "source": [
    "def cross_val_f(model,X,y):\n",
    "    scores_f = cross_val_score(model,X, y, cv=3)\n",
    "    #print (\"Cross-validated scores for Random Forest:\", scores_lg)\n",
    "    print (\"Accuracy: %0.2f (+/- %0.2f)\" % (scores_f.mean(), scores_f.std() * 2))"
   ]
  },
  {
   "cell_type": "code",
   "execution_count": 93,
   "metadata": {
    "_kg_hide-input": false,
    "_uuid": "a8f2326c0e9f142e2e15f1751896c9db7d43c916"
   },
   "outputs": [
    {
     "name": "stdout",
     "output_type": "stream",
     "text": [
      "Accuracy: 0.89 (+/- 0.04)\n"
     ]
    }
   ],
   "source": [
    "model_rf = RandomForestClassifier(n_estimators=6,random_state=3457,max_depth=4,max_leaf_nodes=25)\n",
    "cross_val_f(model_rf,os_data_rf_X,os_data_y)"
   ]
  },
  {
   "cell_type": "markdown",
   "metadata": {
    "_uuid": "8f7d719194603d9c2a7ad53e7346c44a68222fa1"
   },
   "source": [
    "#### 2- Cross Validation for Random Logistic Regression"
   ]
  },
  {
   "cell_type": "code",
   "execution_count": 94,
   "metadata": {
    "_kg_hide-input": false,
    "_uuid": "8f9de75f606440f2d0b420994f4fc3cde718345a"
   },
   "outputs": [
    {
     "name": "stdout",
     "output_type": "stream",
     "text": [
      "Accuracy: 0.88 (+/- 0.01)\n"
     ]
    }
   ],
   "source": [
    "model_lg = LogisticRegression(random_state=3457)\n",
    "cross_val_f(model_lg,os_data_lg_X,os_data_y)"
   ]
  },
  {
   "cell_type": "markdown",
   "metadata": {
    "_uuid": "4618f8373a4930d5c744eb8b93724417dc13bd33"
   },
   "source": [
    "#### 3- Cross Validation for KNN "
   ]
  },
  {
   "cell_type": "code",
   "execution_count": 95,
   "metadata": {
    "_kg_hide-input": false,
    "_uuid": "fa18d606919b1f2559eab345019964b27f58cd7e"
   },
   "outputs": [
    {
     "name": "stdout",
     "output_type": "stream",
     "text": [
      "Accuracy: 0.85 (+/- 0.20)\n"
     ]
    }
   ],
   "source": [
    "model_knn = neighbors.KNeighborsClassifier()\n",
    "cross_val_f(model_knn,os_data_knn_X,os_data_y)"
   ]
  },
  {
   "cell_type": "code",
   "execution_count": 96,
   "metadata": {
    "_kg_hide-input": true,
    "_uuid": "9da04a714750a17ff0ba6d1bd806063ffe75935e"
   },
   "outputs": [],
   "source": [
    "#### 4- Cross Validation for SVC"
   ]
  },
  {
   "cell_type": "code",
   "execution_count": 97,
   "metadata": {
    "_kg_hide-input": false,
    "_uuid": "495c3a64d77f0cd224e9edbb3cb7db63f942e7a3"
   },
   "outputs": [
    {
     "name": "stdout",
     "output_type": "stream",
     "text": [
      "Accuracy: 0.90 (+/- 0.02)\n"
     ]
    }
   ],
   "source": [
    "model_svc = SVC(C=1.0, degree=2,random_state=3458,kernel='rbf')\n",
    "cross_val_f(model_svc,os_data_svc_X,os_data_y)"
   ]
  },
  {
   "cell_type": "markdown",
   "metadata": {
    "_uuid": "97577ace60479ce9cdf6324652cea4a3372016dc"
   },
   "source": [
    "#### 5- Cross Validation for XGBOOST"
   ]
  },
  {
   "cell_type": "code",
   "execution_count": 98,
   "metadata": {
    "_kg_hide-input": false,
    "_uuid": "47d9aea46e088c37809f6ad65c672c669f819ed8"
   },
   "outputs": [
    {
     "name": "stdout",
     "output_type": "stream",
     "text": [
      "Accuracy: 0.88 (+/- 0.12)\n"
     ]
    }
   ],
   "source": [
    "model_xg = XGBClassifier(random_state=3457)\n",
    "cross_val_f(model_xg,os_data_xg_X,os_data_y)"
   ]
  },
  {
   "cell_type": "markdown",
   "metadata": {
    "_uuid": "bbfcd2a8b6518f8bb2cac9660c44d363c40c4d96"
   },
   "source": [
    "#### 6- Cross Validation for Logistic Regression"
   ]
  },
  {
   "cell_type": "code",
   "execution_count": 99,
   "metadata": {
    "_kg_hide-input": false,
    "_uuid": "b8e8258fbee1b8c172f4c4e87841832b9ddd53cf"
   },
   "outputs": [
    {
     "name": "stdout",
     "output_type": "stream",
     "text": [
      "Accuracy: 0.90 (+/- 0.02)\n"
     ]
    }
   ],
   "source": [
    "\n",
    "model_dt = tree.DecisionTreeClassifier(criterion='entropy', max_depth=3,random_state=3458)\n",
    "cross_val_f(model_dt,os_data_dt_X,os_data_y)"
   ]
  },
  {
   "cell_type": "markdown",
   "metadata": {
    "_uuid": "3a2d222c03d8c84473a4d0ce9d58327631205c2d"
   },
   "source": [
    "#### 7- Cross Validation for Logistic Regression with L1"
   ]
  },
  {
   "cell_type": "code",
   "execution_count": 100,
   "metadata": {
    "_kg_hide-input": false,
    "_uuid": "25b078bcf87c2c1f0eb5d11e500b17cdeb5df2af"
   },
   "outputs": [
    {
     "name": "stdout",
     "output_type": "stream",
     "text": [
      "Accuracy: 0.87 (+/- 0.01)\n"
     ]
    }
   ],
   "source": [
    "model_lgL1 = LogisticRegression(random_state=3457,C=0.1, penalty='l1', tol=0.1, solver='liblinear')\n",
    "cross_val_f(model_lgL1,os_data_lgL1_X,os_data_y)"
   ]
  },
  {
   "cell_type": "markdown",
   "metadata": {
    "_uuid": "eac429a2c3ad472e70c0ff1bf0bdfb9f1a596b32"
   },
   "source": [
    "## Print Confusion Matrix and Classification report for Decision Tree\n"
   ]
  },
  {
   "cell_type": "code",
   "execution_count": 101,
   "metadata": {
    "_kg_hide-input": false,
    "_uuid": "c5a26a3bf36b18123589522ce9571eec22d397b4"
   },
   "outputs": [
    {
     "name": "stdout",
     "output_type": "stream",
     "text": [
      "[[4208  966]\n",
      " [ 107 5067]]\n"
     ]
    }
   ],
   "source": [
    "#from sklearn.model_selection import cross_val_predict\n",
    "y_pred= cross_val_predict(model_dt, os_data_dt_X, os_data_y, cv=3)\n",
    "conf_mat = confusion_matrix(os_data_y, y_pred)\n",
    "print(conf_mat)\n"
   ]
  },
  {
   "cell_type": "code",
   "execution_count": 102,
   "metadata": {
    "_kg_hide-input": false,
    "_uuid": "47661dcf4c2a58ffb4148da8001188ed43448f1d"
   },
   "outputs": [
    {
     "name": "stdout",
     "output_type": "stream",
     "text": [
      "              precision    recall  f1-score   support\n",
      "\n",
      "           0       0.98      0.81      0.89      5174\n",
      "           1       0.84      0.98      0.90      5174\n",
      "\n",
      "    accuracy                           0.90     10348\n",
      "   macro avg       0.91      0.90      0.90     10348\n",
      "weighted avg       0.91      0.90      0.90     10348\n",
      "\n"
     ]
    }
   ],
   "source": [
    "print(classification_report(os_data_y, y_pred))"
   ]
  },
  {
   "cell_type": "markdown",
   "metadata": {
    "_uuid": "c057f48ef720d1c353c86e12b102ffb6920b9891"
   },
   "source": []
  },
  {
   "cell_type": "markdown",
   "metadata": {
    "_uuid": "2e9c8157bff42bb6126829b0b8721cc71462f496"
   },
   "source": [
    "## Plot ROC\n"
   ]
  },
  {
   "cell_type": "code",
   "execution_count": 103,
   "metadata": {
    "_kg_hide-input": false,
    "_uuid": "c2e712be0faf0ce9e81c6ab49744f40b7d83397c"
   },
   "outputs": [],
   "source": [
    "from sklearn.model_selection import StratifiedKFold\n",
    "#clf = RandomForestClassifier(random_state=3457)\n",
    "model_dt = tree.DecisionTreeClassifier(criterion='entropy', max_depth=3,random_state=3458)\n",
    "cv = StratifiedKFold(n_splits=5,shuffle=False)"
   ]
  },
  {
   "cell_type": "code",
   "execution_count": 104,
   "metadata": {
    "_kg_hide-input": false,
    "_uuid": "dd119065ddc07a02036e605c24455c8cbba06e29"
   },
   "outputs": [],
   "source": [
    "X_train, X_test, y_train,y_test = train_test_split(os_data_dt_X,os_data_y,test_size=0.2,random_state=3457)"
   ]
  },
  {
   "cell_type": "code",
   "execution_count": 105,
   "metadata": {
    "_kg_hide-input": false,
    "_uuid": "d255fd44f989cbf9bc516794ef8ea545fcacd108"
   },
   "outputs": [],
   "source": [
    "model_dt = tree.DecisionTreeClassifier(criterion='entropy', max_depth=3,random_state=3458)"
   ]
  },
  {
   "cell_type": "code",
   "execution_count": 106,
   "metadata": {
    "_kg_hide-input": false,
    "_uuid": "95f4683b857470a8a18a29cf7807a968b69181a8"
   },
   "outputs": [
    {
     "data": {
      "image/png": "[encoded data removed]",
      "text/plain": [
       "<Figure size 432x288 with 1 Axes>"
      ]
     },
     "metadata": {},
     "output_type": "display_data"
    }
   ],
   "source": [
    "os_data_dt_X=pd.DataFrame(os_data_dt_X)\n",
    "os_data_y=pd.DataFrame(os_data_y)\n",
    "tprs = []\n",
    "aucs = []\n",
    "mean_fpr = np.linspace(0, 1, 101)\n",
    "i = 1\n",
    "for train,test in cv.split(os_data_dt_X,os_data_y):\n",
    "    prediction = model_dt.fit(os_data_dt_X.iloc[train],os_data_y.iloc[train]).predict_proba(os_data_dt_X.iloc[test])\n",
    "    fpr, tpr, t = roc_curve(os_data_y.iloc[test], prediction[:, 1])\n",
    "    tprs.append(interp(mean_fpr, fpr, tpr))\n",
    "    roc_auc = auc(fpr, tpr)\n",
    "    aucs.append(roc_auc)\n",
    "    plt.plot(fpr, tpr, lw=2, alpha=0.3, label='ROC fold %d (AUC = %0.2f)' % (i, roc_auc))\n",
    "    i= i+1\n",
    "plt.plot([0,1],[0,1],linestyle = '--',lw = 2,color = 'black')\n",
    "mean_tpr = np.mean(tprs, axis=0)\n",
    "mean_auc = auc(mean_fpr, mean_tpr)\n",
    "plt.plot(mean_fpr, mean_tpr, color='blue',\n",
    "         label=r'Mean ROC (AUC = %0.2f )' % (mean_auc),lw=2, alpha=1)\n",
    "\n",
    "plt.xlabel('False Positive Rate')\n",
    "plt.ylabel('True Positive Rate')\n",
    "plt.title('ROC')\n",
    "plt.legend(loc=\"lower right\")\n",
    "plt.text(0.32,0.7,'More accurate area',fontsize = 12)\n",
    "plt.text(0.63,0.4,'Less accurate area',fontsize = 12)\n",
    "plt.show()"
   ]
  },
  {
   "cell_type": "markdown",
   "metadata": {
    "_uuid": "25d199ac221a9461f35343b866646b53d55bb8e3"
   },
   "source": [
    "## 5. Summary of the models"
   ]
  },
  {
   "cell_type": "markdown",
   "metadata": {
    "_uuid": "3e092afd812d96d5a8f3a96035178f200d409d86"
   },
   "source": [
    "####  The following table represnts the summary of all models trained and tested. \n",
    "####  Hence, the metric proposed is the accuracy, and the best perofoming model founded is the RandomeForest."
   ]
  },
  {
   "cell_type": "code",
   "execution_count": 107,
   "metadata": {
    "_kg_hide-input": false,
    "_uuid": "4b5b5a647591920e210fb267d26ec94ef19f5e34"
   },
   "outputs": [],
   "source": [
    "from sklearn.metrics import f1_score\n",
    "from sklearn.metrics import cohen_kappa_score"
   ]
  },
  {
   "cell_type": "code",
   "execution_count": 108,
   "metadata": {
    "_kg_hide-input": false,
    "_uuid": "6fe655ff8d4e3d41b17ce8cbd1224d4f17418575"
   },
   "outputs": [],
   "source": [
    "#gives model report in dataframe\n",
    "def model_report(model,training_x,testing_x,training_y,testing_y,name) :\n",
    "    model.fit(training_x,training_y)\n",
    "    #scores_xg = cross_val_score(model_xg,os_data_X, os_data_y, cv=3)\n",
    "    predictions  = model.predict(testing_x)\n",
    "    accuracy     = \"{0:.4f}\".format(accuracy_score(testing_y,predictions))\n",
    "    recallscore  = recall_score(testing_y,predictions)\n",
    "    precision    = precision_score(testing_y,predictions)\n",
    "    roc_auc      = roc_auc_score(testing_y,predictions)\n",
    "    f1score      = f1_score(testing_y,predictions) \n",
    "    kappa_metric = cohen_kappa_score(testing_y,predictions)\n",
    "\n",
    "    df = pd.DataFrame({\"Model\"           : [name],\n",
    "                       \"Accuracy_score\"  : [accuracy],\n",
    "                       \"Recall_score\"    : [recallscore],\n",
    "                       \"Precision\"       : [precision],\n",
    "                       \"f1_score\"        : [f1score],\n",
    "                       \"Area_under_curve\": [roc_auc],\n",
    "                       \"Kappa_metric\"    : [kappa_metric],\n",
    "                      })\n",
    "    return df"
   ]
  },
  {
   "cell_type": "code",
   "execution_count": 109,
   "metadata": {
    "_kg_hide-input": false,
    "_uuid": "3d7299cc685fe561367c906f1e06e5bdaf6d7ef4"
   },
   "outputs": [],
   "source": [
    "def model_report_cv(model,os_data_X, os_data_y,name) :\n",
    "    \n",
    "    y_pred= cross_val_predict(model, os_data_X, os_data_y, cv=3)\n",
    "    accuracy = \"{0:.4f}\".format(cross_val_score(model,os_data_X, os_data_y, cv=3).mean())\n",
    "    recallscore = recall_score(os_data_y, y_pred,average='weighted')\n",
    "    precision     = precision_score(os_data_y, y_pred,average='weighted')\n",
    "    roc_auc=roc_auc_score(os_data_y, y_pred,average='weighted')\n",
    "    f1score=f1_score(os_data_y, y_pred,average='weighted')\t \n",
    "    kappa_metric=cohen_kappa_score(os_data_y, y_pred)\t\n",
    "    df = pd.DataFrame({\"Model\"           : [name],\n",
    "                       \"Accuracy_score\"  : [accuracy],\n",
    "                       \"Recall_score\"    : [recallscore],\n",
    "                       \"Precision\"       : [precision],\n",
    "                       \"f1_score\"        : [f1score],\n",
    "                       \"Area_under_curve\": [roc_auc],\n",
    "                       \"Kappa_metric\"    : [kappa_metric],\n",
    "                      })\n",
    "    return df"
   ]
  },
  {
   "cell_type": "code",
   "execution_count": 110,
   "metadata": {
    "_kg_hide-input": false,
    "_uuid": "7e84bf2f8e282afd863f34898563090a0ca77d9f"
   },
   "outputs": [],
   "source": [
    "os_data_bX=dataset0.loc[:, dataset0.columns != 'Churn']\n",
    "os_data_by=dataset0.loc[:, dataset0.columns == 'Churn']"
   ]
  },
  {
   "cell_type": "code",
   "execution_count": 111,
   "metadata": {
    "_kg_hide-input": false,
    "_uuid": "2c3bc64b2e1755f860baf52ffd5998f150b6df72"
   },
   "outputs": [],
   "source": [
    "\n",
    "os_data_y=os_data_Xy.loc[:, os_data_Xy.columns == 'Churn']"
   ]
  },
  {
   "cell_type": "code",
   "execution_count": 112,
   "metadata": {
    "_kg_hide-input": false,
    "_uuid": "c4519574a319d027138a282d86e5a45bfa91f099"
   },
   "outputs": [],
   "source": [
    "#Base Model\n",
    "\n",
    "model_base = LogisticRegression(random_state=3457)\n",
    "train_X, test_X, train_Y,test_Y = train_test_split(os_data_bX,os_data_by.values.ravel(),test_size=0.2,random_state=3457)\n",
    "model1 = model_report(model_base,train_X,test_X,train_Y,test_Y,\"Logistic Regression(BM)\")\n",
    "#model1 = model_report_cv(model_base,os_data_X,os_data_y,\"Logistic Regression(BM)\")"
   ]
  },
  {
   "cell_type": "code",
   "execution_count": 113,
   "metadata": {
    "_kg_hide-input": false,
    "_uuid": "6d86234dff598f91a3fab8f476646fa8c1df8065",
    "scrolled": true
   },
   "outputs": [],
   "source": [
    "# Linear Regreassion\n",
    "\n",
    "model_lg = LogisticRegression(random_state=3457)\n",
    "train_X, test_X, train_Y,test_Y = train_test_split(os_data_lg_X,os_data_y.values.ravel(),test_size=0.2,random_state=3457)\n",
    "model2 = model_report(model_lg,train_X,test_X,train_Y,test_Y,\"Logistic Regression\")\n",
    "#model2 = model_report_cv(model_lg,os_data_lg_X,os_data_y.values.ravel(),\"Logistic Regression\")"
   ]
  },
  {
   "cell_type": "code",
   "execution_count": 114,
   "metadata": {
    "_kg_hide-input": false,
    "_uuid": "e8dede834b8857fc2a5aecce6cc2ecf553837076"
   },
   "outputs": [],
   "source": [
    "model_lgL1 = LogisticRegression(random_state=3457,C=0.1, penalty='l1', tol=0.1, solver='liblinear')\n",
    "#train_X, test_X, train_Y,test_Y = train_test_split(os_data_lgL1_X,os_data_y,test_size=0.2,random_state=3457)\n",
    "#model3 = model_report(model_lgL1,train_X,test_X,train_Y,test_Y,\"Logistic Regression(L1)\")\n",
    "model3 = model_report_cv(model_lgL1,os_data_lgL1_X,os_data_y.values.ravel(),\"Logistic Regression(L1)\")"
   ]
  },
  {
   "cell_type": "code",
   "execution_count": 115,
   "metadata": {
    "_kg_hide-input": false,
    "_uuid": "cf951ff725de070e12131021fcaf70b1cd79d83c"
   },
   "outputs": [],
   "source": [
    "#model_dt = RandomForestClassifier(n_estimators=6,random_state=3457,max_depth=4,max_leaf_nodes=25)\n",
    "model_dt = tree.DecisionTreeClassifier(criterion='entropy', max_depth=3,random_state=3457)\n",
    "#model_dt = tree.DecisionTreeClassifier(criterion='entropy', max_depth=3,random_state=3458,n_estimators=6)\n",
    "#train_X, test_X, train_Y,test_Y = train_test_split(os_data_dt_X,os_data_y,test_size=0.2,random_state=3457)\n",
    "#model4 = model_report(model_dt,train_X,test_X,train_Y,test_Y,\"Decision Tree\")\n",
    "model4 = model_report_cv(model_dt,os_data_dt_X,os_data_y.values.ravel(),\"Decision Tree\")"
   ]
  },
  {
   "cell_type": "code",
   "execution_count": 116,
   "metadata": {
    "_kg_hide-input": false,
    "_uuid": "cf33144200db459edffdbf85909754a6d264603f"
   },
   "outputs": [],
   "source": [
    "model_rf = RandomForestClassifier(n_estimators=6,random_state=3457,max_depth=4,max_leaf_nodes=25)\n",
    "#train_X, test_X, train_Y,test_Y = train_test_split(os_data_rf_X,os_data_y,test_size=0.2,random_state=3457)\n",
    "#model5 = model_report(model_rf,train_X,test_X,train_Y,test_Y,\"Random Forest\")\n",
    "model5 = model_report_cv(model_rf,os_data_rf_X,os_data_y.values.ravel(),\"Random Forest\")"
   ]
  },
  {
   "cell_type": "code",
   "execution_count": 117,
   "metadata": {
    "_kg_hide-input": false,
    "_uuid": "d9e850e6a4ac89a5ca057c8f20dde1447d36a880"
   },
   "outputs": [],
   "source": [
    "model_xg = XGBClassifier(random_state=3457)\n",
    "#train_X, test_X, train_Y,test_Y = train_test_split(os_data_xg_X,os_data_y,test_size=0.2,random_state=3457)\n",
    "#model6 = model_report(model_xg,train_X,test_X,train_Y,test_Y,\"XGBOOST\")\n",
    "model6 = model_report_cv(model_xg,os_data_xg_X,os_data_y.values.ravel(),\"XGBOOST\")"
   ]
  },
  {
   "cell_type": "code",
   "execution_count": 118,
   "metadata": {
    "_kg_hide-input": false,
    "_uuid": "bbeaa1771f4afa534266aab59af808a7327db9ae"
   },
   "outputs": [],
   "source": [
    "model_svc = SVC(C=0.01, degree=2,random_state=3457,kernel='rbf')\n",
    "#train_X, test_X, train_Y,test_Y = train_test_split(os_data_svc_X,os_data_y,test_size=0.2,random_state=3457)\n",
    "#model7 = model_report(model_svc,train_X,test_X,train_Y,test_Y,\"SVC\")\n",
    "model7 = model_report_cv(model_svc,os_data_svc_X,os_data_y.values.ravel(),\"SVC\")"
   ]
  },
  {
   "cell_type": "code",
   "execution_count": 119,
   "metadata": {
    "_kg_hide-input": false,
    "_uuid": "dd21be9120792f064c4b9eea54a505efc10cea73"
   },
   "outputs": [],
   "source": [
    "model_knn = neighbors.KNeighborsClassifier()\n",
    "#train_X, test_X, train_Y,test_Y = train_test_split(os_data_knn_X,os_data_y,test_size=0.2,random_state=3457)\n",
    "#model8 = model_report(model_knn,train_X,test_X,train_Y,test_Y,\"KNN\")\n",
    "model8 = model_report_cv(model_knn,os_data_knn_X,os_data_y.values.ravel(),\"KNN\")\n"
   ]
  },
  {
   "cell_type": "code",
   "execution_count": 120,
   "metadata": {
    "_kg_hide-input": false,
    "_uuid": "c00e5804757db5a6bfc730331997ea3df78ecaa4"
   },
   "outputs": [
    {
     "data": {
      "text/html": [
       "        <script type=\"text/javascript\">\n",
       "        window.PlotlyConfig = {MathJaxConfig: 'local'};\n",
       "        if (window.MathJax) {MathJax.Hub.Config({SVG: {font: \"STIX-Web\"}});}\n",
       "        if (typeof require !== 'undefined') {\n",
       "        require.undef(\"plotly\");\n",
       "        requirejs.config({\n",
       "            paths: {\n",
       "                'plotly': ['https://cdn.plot.ly/plotly-latest.min']\n",
       "            }\n",
       "        });\n",
       "        require(['plotly'], function(Plotly) {\n",
       "            window._Plotly = Plotly;\n",
       "        });\n",
       "        }\n",
       "        </script>\n",
       "        "
      ]
     },
     "metadata": {},
     "output_type": "display_data"
    },
    {
     "name": "stderr",
     "output_type": "stream",
     "text": [
      "C:\\Users\\sam\\Anaconda3\\lib\\site-packages\\dask\\config.py:168: YAMLLoadWarning:\n",
      "\n",
      "calling yaml.load() without Loader=... is deprecated, as the default Loader is unsafe. Please read https://msg.pyyaml.org/load for full details.\n",
      "\n"
     ]
    }
   ],
   "source": [
    "import io\n",
    "import plotly.offline as py#visualization\n",
    "py.init_notebook_mode(connected=True)#visualization\n",
    "import plotly.graph_objs as go#visualization\n",
    "import plotly.tools as tls#visualization\n",
    "import plotly.figure_factory as ff#visualization\n"
   ]
  },
  {
   "cell_type": "code",
   "execution_count": 121,
   "metadata": {
    "_kg_hide-input": false,
    "_uuid": "8a02ec38a4064198826ca226010dc6f98682c38e",
    "scrolled": true
   },
   "outputs": [
    {
     "data": {
      "application/vnd.plotly.v1+json": {
       "config": {
        "linkText": "Export to plot.ly",
        "plotlyServerURL": "https://plot.ly",
        "showLink": false
       },
       "data": [
        {
         "colorscale": [
          [
           0,
           "#00083e"
          ],
          [
           0.5,
           "#ededee"
          ],
          [
           1,
           "#ffffff"
          ]
         ],
         "hoverinfo": "none",
         "opacity": 0.75,
         "showscale": false,
         "type": "heatmap",
         "uid": "6334fc62-282c-483a-aa03-8f495b80b6ba",
         "z": [
          [
           0,
           0,
           0,
           0,
           0,
           0,
           0
          ],
          [
           0.5,
           0.5,
           0.5,
           0.5,
           0.5,
           0.5,
           0.5
          ],
          [
           1,
           1,
           1,
           1,
           1,
           1,
           1
          ],
          [
           0.5,
           0.5,
           0.5,
           0.5,
           0.5,
           0.5,
           0.5
          ],
          [
           1,
           1,
           1,
           1,
           1,
           1,
           1
          ],
          [
           0.5,
           0.5,
           0.5,
           0.5,
           0.5,
           0.5,
           0.5
          ],
          [
           1,
           1,
           1,
           1,
           1,
           1,
           1
          ],
          [
           0.5,
           0.5,
           0.5,
           0.5,
           0.5,
           0.5,
           0.5
          ],
          [
           1,
           1,
           1,
           1,
           1,
           1,
           1
          ]
         ]
        }
       ],
       "layout": {
        "annotations": [
         {
          "align": "left",
          "font": {
           "color": "#ffffff"
          },
          "showarrow": false,
          "text": "<b>Model</b>",
          "x": -0.45,
          "xanchor": "left",
          "xref": "x",
          "y": 0,
          "yref": "y"
         },
         {
          "align": "left",
          "font": {
           "color": "#ffffff"
          },
          "showarrow": false,
          "text": "<b>Accuracy_score</b>",
          "x": 0.55,
          "xanchor": "left",
          "xref": "x",
          "y": 0,
          "yref": "y"
         },
         {
          "align": "left",
          "font": {
           "color": "#ffffff"
          },
          "showarrow": false,
          "text": "<b>Recall_score</b>",
          "x": 1.55,
          "xanchor": "left",
          "xref": "x",
          "y": 0,
          "yref": "y"
         },
         {
          "align": "left",
          "font": {
           "color": "#ffffff"
          },
          "showarrow": false,
          "text": "<b>Precision</b>",
          "x": 2.55,
          "xanchor": "left",
          "xref": "x",
          "y": 0,
          "yref": "y"
         },
         {
          "align": "left",
          "font": {
           "color": "#ffffff"
          },
          "showarrow": false,
          "text": "<b>f1_score</b>",
          "x": 3.55,
          "xanchor": "left",
          "xref": "x",
          "y": 0,
          "yref": "y"
         },
         {
          "align": "left",
          "font": {
           "color": "#ffffff"
          },
          "showarrow": false,
          "text": "<b>Area_under_curve</b>",
          "x": 4.55,
          "xanchor": "left",
          "xref": "x",
          "y": 0,
          "yref": "y"
         },
         {
          "align": "left",
          "font": {
           "color": "#ffffff"
          },
          "showarrow": false,
          "text": "<b>Kappa_metric</b>",
          "x": 5.55,
          "xanchor": "left",
          "xref": "x",
          "y": 0,
          "yref": "y"
         },
         {
          "align": "left",
          "font": {
           "color": "#000000"
          },
          "showarrow": false,
          "text": "Logistic Regression(BM)",
          "x": -0.45,
          "xanchor": "left",
          "xref": "x",
          "y": 1,
          "yref": "y"
         },
         {
          "align": "left",
          "font": {
           "color": "#000000"
          },
          "showarrow": false,
          "text": "0.7949",
          "x": 0.55,
          "xanchor": "left",
          "xref": "x",
          "y": 1,
          "yref": "y"
         },
         {
          "align": "left",
          "font": {
           "color": "#000000"
          },
          "showarrow": false,
          "text": "0.5039",
          "x": 1.55,
          "xanchor": "left",
          "xref": "x",
          "y": 1,
          "yref": "y"
         },
         {
          "align": "left",
          "font": {
           "color": "#000000"
          },
          "showarrow": false,
          "text": "0.6678",
          "x": 2.55,
          "xanchor": "left",
          "xref": "x",
          "y": 1,
          "yref": "y"
         },
         {
          "align": "left",
          "font": {
           "color": "#000000"
          },
          "showarrow": false,
          "text": "0.5744",
          "x": 3.55,
          "xanchor": "left",
          "xref": "x",
          "y": 1,
          "yref": "y"
         },
         {
          "align": "left",
          "font": {
           "color": "#000000"
          },
          "showarrow": false,
          "text": "0.7045",
          "x": 4.55,
          "xanchor": "left",
          "xref": "x",
          "y": 1,
          "yref": "y"
         },
         {
          "align": "left",
          "font": {
           "color": "#000000"
          },
          "showarrow": false,
          "text": "0.4427",
          "x": 5.55,
          "xanchor": "left",
          "xref": "x",
          "y": 1,
          "yref": "y"
         },
         {
          "align": "left",
          "font": {
           "color": "#000000"
          },
          "showarrow": false,
          "text": "Logistic Regression",
          "x": -0.45,
          "xanchor": "left",
          "xref": "x",
          "y": 2,
          "yref": "y"
         },
         {
          "align": "left",
          "font": {
           "color": "#000000"
          },
          "showarrow": false,
          "text": "0.8778",
          "x": 0.55,
          "xanchor": "left",
          "xref": "x",
          "y": 2,
          "yref": "y"
         },
         {
          "align": "left",
          "font": {
           "color": "#000000"
          },
          "showarrow": false,
          "text": "0.9452",
          "x": 1.55,
          "xanchor": "left",
          "xref": "x",
          "y": 2,
          "yref": "y"
         },
         {
          "align": "left",
          "font": {
           "color": "#000000"
          },
          "showarrow": false,
          "text": "0.837",
          "x": 2.55,
          "xanchor": "left",
          "xref": "x",
          "y": 2,
          "yref": "y"
         },
         {
          "align": "left",
          "font": {
           "color": "#000000"
          },
          "showarrow": false,
          "text": "0.8878",
          "x": 3.55,
          "xanchor": "left",
          "xref": "x",
          "y": 2,
          "yref": "y"
         },
         {
          "align": "left",
          "font": {
           "color": "#000000"
          },
          "showarrow": false,
          "text": "0.8762",
          "x": 4.55,
          "xanchor": "left",
          "xref": "x",
          "y": 2,
          "yref": "y"
         },
         {
          "align": "left",
          "font": {
           "color": "#000000"
          },
          "showarrow": false,
          "text": "0.7547",
          "x": 5.55,
          "xanchor": "left",
          "xref": "x",
          "y": 2,
          "yref": "y"
         },
         {
          "align": "left",
          "font": {
           "color": "#000000"
          },
          "showarrow": false,
          "text": "Logistic Regression(L1)",
          "x": -0.45,
          "xanchor": "left",
          "xref": "x",
          "y": 3,
          "yref": "y"
         },
         {
          "align": "left",
          "font": {
           "color": "#000000"
          },
          "showarrow": false,
          "text": "0.8722",
          "x": 0.55,
          "xanchor": "left",
          "xref": "x",
          "y": 3,
          "yref": "y"
         },
         {
          "align": "left",
          "font": {
           "color": "#000000"
          },
          "showarrow": false,
          "text": "0.8721",
          "x": 1.55,
          "xanchor": "left",
          "xref": "x",
          "y": 3,
          "yref": "y"
         },
         {
          "align": "left",
          "font": {
           "color": "#000000"
          },
          "showarrow": false,
          "text": "0.8774",
          "x": 2.55,
          "xanchor": "left",
          "xref": "x",
          "y": 3,
          "yref": "y"
         },
         {
          "align": "left",
          "font": {
           "color": "#000000"
          },
          "showarrow": false,
          "text": "0.8717",
          "x": 3.55,
          "xanchor": "left",
          "xref": "x",
          "y": 3,
          "yref": "y"
         },
         {
          "align": "left",
          "font": {
           "color": "#000000"
          },
          "showarrow": false,
          "text": "0.8721",
          "x": 4.55,
          "xanchor": "left",
          "xref": "x",
          "y": 3,
          "yref": "y"
         },
         {
          "align": "left",
          "font": {
           "color": "#000000"
          },
          "showarrow": false,
          "text": "0.7443",
          "x": 5.55,
          "xanchor": "left",
          "xref": "x",
          "y": 3,
          "yref": "y"
         },
         {
          "align": "left",
          "font": {
           "color": "#000000"
          },
          "showarrow": false,
          "text": "Decision Tree",
          "x": -0.45,
          "xanchor": "left",
          "xref": "x",
          "y": 4,
          "yref": "y"
         },
         {
          "align": "left",
          "font": {
           "color": "#000000"
          },
          "showarrow": false,
          "text": "0.8963",
          "x": 0.55,
          "xanchor": "left",
          "xref": "x",
          "y": 4,
          "yref": "y"
         },
         {
          "align": "left",
          "font": {
           "color": "#000000"
          },
          "showarrow": false,
          "text": "0.8963",
          "x": 1.55,
          "xanchor": "left",
          "xref": "x",
          "y": 4,
          "yref": "y"
         },
         {
          "align": "left",
          "font": {
           "color": "#000000"
          },
          "showarrow": false,
          "text": "0.9075",
          "x": 2.55,
          "xanchor": "left",
          "xref": "x",
          "y": 4,
          "yref": "y"
         },
         {
          "align": "left",
          "font": {
           "color": "#000000"
          },
          "showarrow": false,
          "text": "0.8956",
          "x": 3.55,
          "xanchor": "left",
          "xref": "x",
          "y": 4,
          "yref": "y"
         },
         {
          "align": "left",
          "font": {
           "color": "#000000"
          },
          "showarrow": false,
          "text": "0.8963",
          "x": 4.55,
          "xanchor": "left",
          "xref": "x",
          "y": 4,
          "yref": "y"
         },
         {
          "align": "left",
          "font": {
           "color": "#000000"
          },
          "showarrow": false,
          "text": "0.7926",
          "x": 5.55,
          "xanchor": "left",
          "xref": "x",
          "y": 4,
          "yref": "y"
         },
         {
          "align": "left",
          "font": {
           "color": "#000000"
          },
          "showarrow": false,
          "text": "Random Forest",
          "x": -0.45,
          "xanchor": "left",
          "xref": "x",
          "y": 5,
          "yref": "y"
         },
         {
          "align": "left",
          "font": {
           "color": "#000000"
          },
          "showarrow": false,
          "text": "0.8888",
          "x": 0.55,
          "xanchor": "left",
          "xref": "x",
          "y": 5,
          "yref": "y"
         },
         {
          "align": "left",
          "font": {
           "color": "#000000"
          },
          "showarrow": false,
          "text": "0.8888",
          "x": 1.55,
          "xanchor": "left",
          "xref": "x",
          "y": 5,
          "yref": "y"
         },
         {
          "align": "left",
          "font": {
           "color": "#000000"
          },
          "showarrow": false,
          "text": "0.8957",
          "x": 2.55,
          "xanchor": "left",
          "xref": "x",
          "y": 5,
          "yref": "y"
         },
         {
          "align": "left",
          "font": {
           "color": "#000000"
          },
          "showarrow": false,
          "text": "0.8883",
          "x": 3.55,
          "xanchor": "left",
          "xref": "x",
          "y": 5,
          "yref": "y"
         },
         {
          "align": "left",
          "font": {
           "color": "#000000"
          },
          "showarrow": false,
          "text": "0.8888",
          "x": 4.55,
          "xanchor": "left",
          "xref": "x",
          "y": 5,
          "yref": "y"
         },
         {
          "align": "left",
          "font": {
           "color": "#000000"
          },
          "showarrow": false,
          "text": "0.7775",
          "x": 5.55,
          "xanchor": "left",
          "xref": "x",
          "y": 5,
          "yref": "y"
         },
         {
          "align": "left",
          "font": {
           "color": "#000000"
          },
          "showarrow": false,
          "text": "XGBOOST",
          "x": -0.45,
          "xanchor": "left",
          "xref": "x",
          "y": 6,
          "yref": "y"
         },
         {
          "align": "left",
          "font": {
           "color": "#000000"
          },
          "showarrow": false,
          "text": "0.8779",
          "x": 0.55,
          "xanchor": "left",
          "xref": "x",
          "y": 6,
          "yref": "y"
         },
         {
          "align": "left",
          "font": {
           "color": "#000000"
          },
          "showarrow": false,
          "text": "0.8779",
          "x": 1.55,
          "xanchor": "left",
          "xref": "x",
          "y": 6,
          "yref": "y"
         },
         {
          "align": "left",
          "font": {
           "color": "#000000"
          },
          "showarrow": false,
          "text": "0.8779",
          "x": 2.55,
          "xanchor": "left",
          "xref": "x",
          "y": 6,
          "yref": "y"
         },
         {
          "align": "left",
          "font": {
           "color": "#000000"
          },
          "showarrow": false,
          "text": "0.8778",
          "x": 3.55,
          "xanchor": "left",
          "xref": "x",
          "y": 6,
          "yref": "y"
         },
         {
          "align": "left",
          "font": {
           "color": "#000000"
          },
          "showarrow": false,
          "text": "0.8779",
          "x": 4.55,
          "xanchor": "left",
          "xref": "x",
          "y": 6,
          "yref": "y"
         },
         {
          "align": "left",
          "font": {
           "color": "#000000"
          },
          "showarrow": false,
          "text": "0.7557",
          "x": 5.55,
          "xanchor": "left",
          "xref": "x",
          "y": 6,
          "yref": "y"
         },
         {
          "align": "left",
          "font": {
           "color": "#000000"
          },
          "showarrow": false,
          "text": "SVC",
          "x": -0.45,
          "xanchor": "left",
          "xref": "x",
          "y": 7,
          "yref": "y"
         },
         {
          "align": "left",
          "font": {
           "color": "#000000"
          },
          "showarrow": false,
          "text": "0.8881",
          "x": 0.55,
          "xanchor": "left",
          "xref": "x",
          "y": 7,
          "yref": "y"
         },
         {
          "align": "left",
          "font": {
           "color": "#000000"
          },
          "showarrow": false,
          "text": "0.8881",
          "x": 1.55,
          "xanchor": "left",
          "xref": "x",
          "y": 7,
          "yref": "y"
         },
         {
          "align": "left",
          "font": {
           "color": "#000000"
          },
          "showarrow": false,
          "text": "0.897",
          "x": 2.55,
          "xanchor": "left",
          "xref": "x",
          "y": 7,
          "yref": "y"
         },
         {
          "align": "left",
          "font": {
           "color": "#000000"
          },
          "showarrow": false,
          "text": "0.8875",
          "x": 3.55,
          "xanchor": "left",
          "xref": "x",
          "y": 7,
          "yref": "y"
         },
         {
          "align": "left",
          "font": {
           "color": "#000000"
          },
          "showarrow": false,
          "text": "0.8881",
          "x": 4.55,
          "xanchor": "left",
          "xref": "x",
          "y": 7,
          "yref": "y"
         },
         {
          "align": "left",
          "font": {
           "color": "#000000"
          },
          "showarrow": false,
          "text": "0.7762",
          "x": 5.55,
          "xanchor": "left",
          "xref": "x",
          "y": 7,
          "yref": "y"
         },
         {
          "align": "left",
          "font": {
           "color": "#000000"
          },
          "showarrow": false,
          "text": "KNN",
          "x": -0.45,
          "xanchor": "left",
          "xref": "x",
          "y": 8,
          "yref": "y"
         },
         {
          "align": "left",
          "font": {
           "color": "#000000"
          },
          "showarrow": false,
          "text": "0.8467",
          "x": 0.55,
          "xanchor": "left",
          "xref": "x",
          "y": 8,
          "yref": "y"
         },
         {
          "align": "left",
          "font": {
           "color": "#000000"
          },
          "showarrow": false,
          "text": "0.8467",
          "x": 1.55,
          "xanchor": "left",
          "xref": "x",
          "y": 8,
          "yref": "y"
         },
         {
          "align": "left",
          "font": {
           "color": "#000000"
          },
          "showarrow": false,
          "text": "0.8501",
          "x": 2.55,
          "xanchor": "left",
          "xref": "x",
          "y": 8,
          "yref": "y"
         },
         {
          "align": "left",
          "font": {
           "color": "#000000"
          },
          "showarrow": false,
          "text": "0.8464",
          "x": 3.55,
          "xanchor": "left",
          "xref": "x",
          "y": 8,
          "yref": "y"
         },
         {
          "align": "left",
          "font": {
           "color": "#000000"
          },
          "showarrow": false,
          "text": "0.8467",
          "x": 4.55,
          "xanchor": "left",
          "xref": "x",
          "y": 8,
          "yref": "y"
         },
         {
          "align": "left",
          "font": {
           "color": "#000000"
          },
          "showarrow": false,
          "text": "0.6935",
          "x": 5.55,
          "xanchor": "left",
          "xref": "x",
          "y": 8,
          "yref": "y"
         }
        ],
        "height": 320,
        "margin": {
         "b": 0,
         "l": 0,
         "r": 0,
         "t": 0
        },
        "xaxis": {
         "dtick": 1,
         "gridwidth": 2,
         "showticklabels": false,
         "tick0": -0.5,
         "ticks": "",
         "zeroline": false
        },
        "yaxis": {
         "autorange": "reversed",
         "dtick": 1,
         "gridwidth": 2,
         "showticklabels": false,
         "tick0": 0.5,
         "ticks": "",
         "zeroline": false
        }
       }
      },
      "text/html": [
       "<div>\n",
       "        \n",
       "        \n",
       "            <div id=\"9d328d3d-8cb3-44c5-bdde-141ba5983f1c\" class=\"plotly-graph-div\" style=\"height:320px; width:100%;\"></div>\n",
       "            <script type=\"text/javascript\">\n",
       "                require([\"plotly\"], function(Plotly) {\n",
       "                    window.PLOTLYENV=window.PLOTLYENV || {};\n",
       "                    window.PLOTLYENV.BASE_URL='https://plot.ly';\n",
       "                    \n",
       "                if (document.getElementById(\"9d328d3d-8cb3-44c5-bdde-141ba5983f1c\")) {\n",
       "                    Plotly.newPlot(\n",
       "                        '9d328d3d-8cb3-44c5-bdde-141ba5983f1c',\n",
       "                        [{\"colorscale\": [[0, \"#00083e\"], [0.5, \"#ededee\"], [1, \"#ffffff\"]], \"hoverinfo\": \"none\", \"opacity\": 0.75, \"showscale\": false, \"type\": \"heatmap\", \"uid\": \"6334fc62-282c-483a-aa03-8f495b80b6ba\", \"z\": [[0, 0, 0, 0, 0, 0, 0], [0.5, 0.5, 0.5, 0.5, 0.5, 0.5, 0.5], [1, 1, 1, 1, 1, 1, 1], [0.5, 0.5, 0.5, 0.5, 0.5, 0.5, 0.5], [1, 1, 1, 1, 1, 1, 1], [0.5, 0.5, 0.5, 0.5, 0.5, 0.5, 0.5], [1, 1, 1, 1, 1, 1, 1], [0.5, 0.5, 0.5, 0.5, 0.5, 0.5, 0.5], [1, 1, 1, 1, 1, 1, 1]]}],\n",
       "                        {\"annotations\": [{\"align\": \"left\", \"font\": {\"color\": \"#ffffff\"}, \"showarrow\": false, \"text\": \"<b>Model</b>\", \"x\": -0.45, \"xanchor\": \"left\", \"xref\": \"x\", \"y\": 0, \"yref\": \"y\"}, {\"align\": \"left\", \"font\": {\"color\": \"#ffffff\"}, \"showarrow\": false, \"text\": \"<b>Accuracy_score</b>\", \"x\": 0.55, \"xanchor\": \"left\", \"xref\": \"x\", \"y\": 0, \"yref\": \"y\"}, {\"align\": \"left\", \"font\": {\"color\": \"#ffffff\"}, \"showarrow\": false, \"text\": \"<b>Recall_score</b>\", \"x\": 1.55, \"xanchor\": \"left\", \"xref\": \"x\", \"y\": 0, \"yref\": \"y\"}, {\"align\": \"left\", \"font\": {\"color\": \"#ffffff\"}, \"showarrow\": false, \"text\": \"<b>Precision</b>\", \"x\": 2.55, \"xanchor\": \"left\", \"xref\": \"x\", \"y\": 0, \"yref\": \"y\"}, {\"align\": \"left\", \"font\": {\"color\": \"#ffffff\"}, \"showarrow\": false, \"text\": \"<b>f1_score</b>\", \"x\": 3.55, \"xanchor\": \"left\", \"xref\": \"x\", \"y\": 0, \"yref\": \"y\"}, {\"align\": \"left\", \"font\": {\"color\": \"#ffffff\"}, \"showarrow\": false, \"text\": \"<b>Area_under_curve</b>\", \"x\": 4.55, \"xanchor\": \"left\", \"xref\": \"x\", \"y\": 0, \"yref\": \"y\"}, {\"align\": \"left\", \"font\": {\"color\": \"#ffffff\"}, \"showarrow\": false, \"text\": \"<b>Kappa_metric</b>\", \"x\": 5.55, \"xanchor\": \"left\", \"xref\": \"x\", \"y\": 0, \"yref\": \"y\"}, {\"align\": \"left\", \"font\": {\"color\": \"#000000\"}, \"showarrow\": false, \"text\": \"Logistic Regression(BM)\", \"x\": -0.45, \"xanchor\": \"left\", \"xref\": \"x\", \"y\": 1, \"yref\": \"y\"}, {\"align\": \"left\", \"font\": {\"color\": \"#000000\"}, \"showarrow\": false, \"text\": \"0.7949\", \"x\": 0.55, \"xanchor\": \"left\", \"xref\": \"x\", \"y\": 1, \"yref\": \"y\"}, {\"align\": \"left\", \"font\": {\"color\": \"#000000\"}, \"showarrow\": false, \"text\": \"0.5039\", \"x\": 1.55, \"xanchor\": \"left\", \"xref\": \"x\", \"y\": 1, \"yref\": \"y\"}, {\"align\": \"left\", \"font\": {\"color\": \"#000000\"}, \"showarrow\": false, \"text\": \"0.6678\", \"x\": 2.55, \"xanchor\": \"left\", \"xref\": \"x\", \"y\": 1, \"yref\": \"y\"}, {\"align\": \"left\", \"font\": {\"color\": \"#000000\"}, \"showarrow\": false, \"text\": \"0.5744\", \"x\": 3.55, \"xanchor\": \"left\", \"xref\": \"x\", \"y\": 1, \"yref\": \"y\"}, {\"align\": \"left\", \"font\": {\"color\": \"#000000\"}, \"showarrow\": false, \"text\": \"0.7045\", \"x\": 4.55, \"xanchor\": \"left\", \"xref\": \"x\", \"y\": 1, \"yref\": \"y\"}, {\"align\": \"left\", \"font\": {\"color\": \"#000000\"}, \"showarrow\": false, \"text\": \"0.4427\", \"x\": 5.55, \"xanchor\": \"left\", \"xref\": \"x\", \"y\": 1, \"yref\": \"y\"}, {\"align\": \"left\", \"font\": {\"color\": \"#000000\"}, \"showarrow\": false, \"text\": \"Logistic Regression\", \"x\": -0.45, \"xanchor\": \"left\", \"xref\": \"x\", \"y\": 2, \"yref\": \"y\"}, {\"align\": \"left\", \"font\": {\"color\": \"#000000\"}, \"showarrow\": false, \"text\": \"0.8778\", \"x\": 0.55, \"xanchor\": \"left\", \"xref\": \"x\", \"y\": 2, \"yref\": \"y\"}, {\"align\": \"left\", \"font\": {\"color\": \"#000000\"}, \"showarrow\": false, \"text\": \"0.9452\", \"x\": 1.55, \"xanchor\": \"left\", \"xref\": \"x\", \"y\": 2, \"yref\": \"y\"}, {\"align\": \"left\", \"font\": {\"color\": \"#000000\"}, \"showarrow\": false, \"text\": \"0.837\", \"x\": 2.55, \"xanchor\": \"left\", \"xref\": \"x\", \"y\": 2, \"yref\": \"y\"}, {\"align\": \"left\", \"font\": {\"color\": \"#000000\"}, \"showarrow\": false, \"text\": \"0.8878\", \"x\": 3.55, \"xanchor\": \"left\", \"xref\": \"x\", \"y\": 2, \"yref\": \"y\"}, {\"align\": \"left\", \"font\": {\"color\": \"#000000\"}, \"showarrow\": false, \"text\": \"0.8762\", \"x\": 4.55, \"xanchor\": \"left\", \"xref\": \"x\", \"y\": 2, \"yref\": \"y\"}, {\"align\": \"left\", \"font\": {\"color\": \"#000000\"}, \"showarrow\": false, \"text\": \"0.7547\", \"x\": 5.55, \"xanchor\": \"left\", \"xref\": \"x\", \"y\": 2, \"yref\": \"y\"}, {\"align\": \"left\", \"font\": {\"color\": \"#000000\"}, \"showarrow\": false, \"text\": \"Logistic Regression(L1)\", \"x\": -0.45, \"xanchor\": \"left\", \"xref\": \"x\", \"y\": 3, \"yref\": \"y\"}, {\"align\": \"left\", \"font\": {\"color\": \"#000000\"}, \"showarrow\": false, \"text\": \"0.8722\", \"x\": 0.55, \"xanchor\": \"left\", \"xref\": \"x\", \"y\": 3, \"yref\": \"y\"}, {\"align\": \"left\", \"font\": {\"color\": \"#000000\"}, \"showarrow\": false, \"text\": \"0.8721\", \"x\": 1.55, \"xanchor\": \"left\", \"xref\": \"x\", \"y\": 3, \"yref\": \"y\"}, {\"align\": \"left\", \"font\": {\"color\": \"#000000\"}, \"showarrow\": false, \"text\": \"0.8774\", \"x\": 2.55, \"xanchor\": \"left\", \"xref\": \"x\", \"y\": 3, \"yref\": \"y\"}, {\"align\": \"left\", \"font\": {\"color\": \"#000000\"}, \"showarrow\": false, \"text\": \"0.8717\", \"x\": 3.55, \"xanchor\": \"left\", \"xref\": \"x\", \"y\": 3, \"yref\": \"y\"}, {\"align\": \"left\", \"font\": {\"color\": \"#000000\"}, \"showarrow\": false, \"text\": \"0.8721\", \"x\": 4.55, \"xanchor\": \"left\", \"xref\": \"x\", \"y\": 3, \"yref\": \"y\"}, {\"align\": \"left\", \"font\": {\"color\": \"#000000\"}, \"showarrow\": false, \"text\": \"0.7443\", \"x\": 5.55, \"xanchor\": \"left\", \"xref\": \"x\", \"y\": 3, \"yref\": \"y\"}, {\"align\": \"left\", \"font\": {\"color\": \"#000000\"}, \"showarrow\": false, \"text\": \"Decision Tree\", \"x\": -0.45, \"xanchor\": \"left\", \"xref\": \"x\", \"y\": 4, \"yref\": \"y\"}, {\"align\": \"left\", \"font\": {\"color\": \"#000000\"}, \"showarrow\": false, \"text\": \"0.8963\", \"x\": 0.55, \"xanchor\": \"left\", \"xref\": \"x\", \"y\": 4, \"yref\": \"y\"}, {\"align\": \"left\", \"font\": {\"color\": \"#000000\"}, \"showarrow\": false, \"text\": \"0.8963\", \"x\": 1.55, \"xanchor\": \"left\", \"xref\": \"x\", \"y\": 4, \"yref\": \"y\"}, {\"align\": \"left\", \"font\": {\"color\": \"#000000\"}, \"showarrow\": false, \"text\": \"0.9075\", \"x\": 2.55, \"xanchor\": \"left\", \"xref\": \"x\", \"y\": 4, \"yref\": \"y\"}, {\"align\": \"left\", \"font\": {\"color\": \"#000000\"}, \"showarrow\": false, \"text\": \"0.8956\", \"x\": 3.55, \"xanchor\": \"left\", \"xref\": \"x\", \"y\": 4, \"yref\": \"y\"}, {\"align\": \"left\", \"font\": {\"color\": \"#000000\"}, \"showarrow\": false, \"text\": \"0.8963\", \"x\": 4.55, \"xanchor\": \"left\", \"xref\": \"x\", \"y\": 4, \"yref\": \"y\"}, {\"align\": \"left\", \"font\": {\"color\": \"#000000\"}, \"showarrow\": false, \"text\": \"0.7926\", \"x\": 5.55, \"xanchor\": \"left\", \"xref\": \"x\", \"y\": 4, \"yref\": \"y\"}, {\"align\": \"left\", \"font\": {\"color\": \"#000000\"}, \"showarrow\": false, \"text\": \"Random Forest\", \"x\": -0.45, \"xanchor\": \"left\", \"xref\": \"x\", \"y\": 5, \"yref\": \"y\"}, {\"align\": \"left\", \"font\": {\"color\": \"#000000\"}, \"showarrow\": false, \"text\": \"0.8888\", \"x\": 0.55, \"xanchor\": \"left\", \"xref\": \"x\", \"y\": 5, \"yref\": \"y\"}, {\"align\": \"left\", \"font\": {\"color\": \"#000000\"}, \"showarrow\": false, \"text\": \"0.8888\", \"x\": 1.55, \"xanchor\": \"left\", \"xref\": \"x\", \"y\": 5, \"yref\": \"y\"}, {\"align\": \"left\", \"font\": {\"color\": \"#000000\"}, \"showarrow\": false, \"text\": \"0.8957\", \"x\": 2.55, \"xanchor\": \"left\", \"xref\": \"x\", \"y\": 5, \"yref\": \"y\"}, {\"align\": \"left\", \"font\": {\"color\": \"#000000\"}, \"showarrow\": false, \"text\": \"0.8883\", \"x\": 3.55, \"xanchor\": \"left\", \"xref\": \"x\", \"y\": 5, \"yref\": \"y\"}, {\"align\": \"left\", \"font\": {\"color\": \"#000000\"}, \"showarrow\": false, \"text\": \"0.8888\", \"x\": 4.55, \"xanchor\": \"left\", \"xref\": \"x\", \"y\": 5, \"yref\": \"y\"}, {\"align\": \"left\", \"font\": {\"color\": \"#000000\"}, \"showarrow\": false, \"text\": \"0.7775\", \"x\": 5.55, \"xanchor\": \"left\", \"xref\": \"x\", \"y\": 5, \"yref\": \"y\"}, {\"align\": \"left\", \"font\": {\"color\": \"#000000\"}, \"showarrow\": false, \"text\": \"XGBOOST\", \"x\": -0.45, \"xanchor\": \"left\", \"xref\": \"x\", \"y\": 6, \"yref\": \"y\"}, {\"align\": \"left\", \"font\": {\"color\": \"#000000\"}, \"showarrow\": false, \"text\": \"0.8779\", \"x\": 0.55, \"xanchor\": \"left\", \"xref\": \"x\", \"y\": 6, \"yref\": \"y\"}, {\"align\": \"left\", \"font\": {\"color\": \"#000000\"}, \"showarrow\": false, \"text\": \"0.8779\", \"x\": 1.55, \"xanchor\": \"left\", \"xref\": \"x\", \"y\": 6, \"yref\": \"y\"}, {\"align\": \"left\", \"font\": {\"color\": \"#000000\"}, \"showarrow\": false, \"text\": \"0.8779\", \"x\": 2.55, \"xanchor\": \"left\", \"xref\": \"x\", \"y\": 6, \"yref\": \"y\"}, {\"align\": \"left\", \"font\": {\"color\": \"#000000\"}, \"showarrow\": false, \"text\": \"0.8778\", \"x\": 3.55, \"xanchor\": \"left\", \"xref\": \"x\", \"y\": 6, \"yref\": \"y\"}, {\"align\": \"left\", \"font\": {\"color\": \"#000000\"}, \"showarrow\": false, \"text\": \"0.8779\", \"x\": 4.55, \"xanchor\": \"left\", \"xref\": \"x\", \"y\": 6, \"yref\": \"y\"}, {\"align\": \"left\", \"font\": {\"color\": \"#000000\"}, \"showarrow\": false, \"text\": \"0.7557\", \"x\": 5.55, \"xanchor\": \"left\", \"xref\": \"x\", \"y\": 6, \"yref\": \"y\"}, {\"align\": \"left\", \"font\": {\"color\": \"#000000\"}, \"showarrow\": false, \"text\": \"SVC\", \"x\": -0.45, \"xanchor\": \"left\", \"xref\": \"x\", \"y\": 7, \"yref\": \"y\"}, {\"align\": \"left\", \"font\": {\"color\": \"#000000\"}, \"showarrow\": false, \"text\": \"0.8881\", \"x\": 0.55, \"xanchor\": \"left\", \"xref\": \"x\", \"y\": 7, \"yref\": \"y\"}, {\"align\": \"left\", \"font\": {\"color\": \"#000000\"}, \"showarrow\": false, \"text\": \"0.8881\", \"x\": 1.55, \"xanchor\": \"left\", \"xref\": \"x\", \"y\": 7, \"yref\": \"y\"}, {\"align\": \"left\", \"font\": {\"color\": \"#000000\"}, \"showarrow\": false, \"text\": \"0.897\", \"x\": 2.55, \"xanchor\": \"left\", \"xref\": \"x\", \"y\": 7, \"yref\": \"y\"}, {\"align\": \"left\", \"font\": {\"color\": \"#000000\"}, \"showarrow\": false, \"text\": \"0.8875\", \"x\": 3.55, \"xanchor\": \"left\", \"xref\": \"x\", \"y\": 7, \"yref\": \"y\"}, {\"align\": \"left\", \"font\": {\"color\": \"#000000\"}, \"showarrow\": false, \"text\": \"0.8881\", \"x\": 4.55, \"xanchor\": \"left\", \"xref\": \"x\", \"y\": 7, \"yref\": \"y\"}, {\"align\": \"left\", \"font\": {\"color\": \"#000000\"}, \"showarrow\": false, \"text\": \"0.7762\", \"x\": 5.55, \"xanchor\": \"left\", \"xref\": \"x\", \"y\": 7, \"yref\": \"y\"}, {\"align\": \"left\", \"font\": {\"color\": \"#000000\"}, \"showarrow\": false, \"text\": \"KNN\", \"x\": -0.45, \"xanchor\": \"left\", \"xref\": \"x\", \"y\": 8, \"yref\": \"y\"}, {\"align\": \"left\", \"font\": {\"color\": \"#000000\"}, \"showarrow\": false, \"text\": \"0.8467\", \"x\": 0.55, \"xanchor\": \"left\", \"xref\": \"x\", \"y\": 8, \"yref\": \"y\"}, {\"align\": \"left\", \"font\": {\"color\": \"#000000\"}, \"showarrow\": false, \"text\": \"0.8467\", \"x\": 1.55, \"xanchor\": \"left\", \"xref\": \"x\", \"y\": 8, \"yref\": \"y\"}, {\"align\": \"left\", \"font\": {\"color\": \"#000000\"}, \"showarrow\": false, \"text\": \"0.8501\", \"x\": 2.55, \"xanchor\": \"left\", \"xref\": \"x\", \"y\": 8, \"yref\": \"y\"}, {\"align\": \"left\", \"font\": {\"color\": \"#000000\"}, \"showarrow\": false, \"text\": \"0.8464\", \"x\": 3.55, \"xanchor\": \"left\", \"xref\": \"x\", \"y\": 8, \"yref\": \"y\"}, {\"align\": \"left\", \"font\": {\"color\": \"#000000\"}, \"showarrow\": false, \"text\": \"0.8467\", \"x\": 4.55, \"xanchor\": \"left\", \"xref\": \"x\", \"y\": 8, \"yref\": \"y\"}, {\"align\": \"left\", \"font\": {\"color\": \"#000000\"}, \"showarrow\": false, \"text\": \"0.6935\", \"x\": 5.55, \"xanchor\": \"left\", \"xref\": \"x\", \"y\": 8, \"yref\": \"y\"}], \"height\": 320, \"margin\": {\"b\": 0, \"l\": 0, \"r\": 0, \"t\": 0}, \"xaxis\": {\"dtick\": 1, \"gridwidth\": 2, \"showticklabels\": false, \"tick0\": -0.5, \"ticks\": \"\", \"zeroline\": false}, \"yaxis\": {\"autorange\": \"reversed\", \"dtick\": 1, \"gridwidth\": 2, \"showticklabels\": false, \"tick0\": 0.5, \"ticks\": \"\", \"zeroline\": false}},\n",
       "                        {\"showLink\": false, \"linkText\": \"Export to plot.ly\", \"plotlyServerURL\": \"https://plot.ly\", \"responsive\": true}\n",
       "                    ).then(function(){\n",
       "                            \n",
       "var gd = document.getElementById('9d328d3d-8cb3-44c5-bdde-141ba5983f1c');\n",
       "var x = new MutationObserver(function (mutations, observer) {{\n",
       "        var display = window.getComputedStyle(gd).display;\n",
       "        if (!display || display === 'none') {{\n",
       "            console.log([gd, 'removed!']);\n",
       "            Plotly.purge(gd);\n",
       "            observer.disconnect();\n",
       "        }}\n",
       "}});\n",
       "\n",
       "// Listen for the removal of the full notebook cells\n",
       "var notebookContainer = gd.closest('#notebook-container');\n",
       "if (notebookContainer) {{\n",
       "    x.observe(notebookContainer, {childList: true});\n",
       "}}\n",
       "\n",
       "// Listen for the clearing of the current output cell\n",
       "var outputEl = gd.closest('.output');\n",
       "if (outputEl) {{\n",
       "    x.observe(outputEl, {childList: true});\n",
       "}}\n",
       "\n",
       "                        })\n",
       "                };\n",
       "                });\n",
       "            </script>\n",
       "        </div>"
      ]
     },
     "metadata": {},
     "output_type": "display_data"
    }
   ],
   "source": [
    "model_performances = pd.concat([model1,model2,model3,\n",
    "                                model4,model5,model6,\n",
    "                                model7,model8],axis = 0).reset_index()\n",
    "\n",
    "model_performances = model_performances.drop(columns = \"index\",axis =1)\n",
    "\n",
    "table  = ff.create_table(np.round(model_performances,4))\n",
    "py.iplot(table)"
   ]
  },
  {
   "cell_type": "code",
   "execution_count": null,
   "metadata": {
    "_uuid": "ef3bd0655f413b7c8227de493b8117ac3f454ccb"
   },
   "outputs": [],
   "source": []
  }
 ],
 "metadata": {
  "kernelspec": {
   "display_name": "Python 3",
   "language": "python",
   "name": "python3"
  },
  "language_info": {
   "codemirror_mode": {
    "name": "ipython",
    "version": 3
   },
   "file_extension": ".py",
   "mimetype": "text/x-python",
   "name": "python",
   "nbconvert_exporter": "python",
   "pygments_lexer": "ipython3",
   "version": "3.7.3"
  }
 },
 "nbformat": 4,
 "nbformat_minor": 1
}
